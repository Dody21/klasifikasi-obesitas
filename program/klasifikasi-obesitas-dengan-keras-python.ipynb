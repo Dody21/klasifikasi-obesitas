{
 "cells": [
  {
   "cell_type": "markdown",
   "id": "8c601bb3",
   "metadata": {
    "papermill": {
     "duration": 0.004605,
     "end_time": "2023-09-30T17:50:38.987015",
     "exception": false,
     "start_time": "2023-09-30T17:50:38.982410",
     "status": "completed"
    },
    "tags": []
   },
   "source": [
    "___\n",
    "**MODUL 6 - PERTEMUAN 1 (PRAKTIKUM)**\n",
    "\n",
    "- **ANN untuk Model Klasifikasi** (**Python**  | [Bahasa R](https://www.kaggle.com/code/cahyaalkahfi/klasifikasi-obesitas-dengan-keras-r))\n",
    "- **ANN untuk Model Regresi** ([Python](https://www.kaggle.com/cahyaalkahfi/prediksi-abalone-dengan-keras-python) | [Bahasa R](https://www.kaggle.com/cahyaalkahfi/prediksi-abalone-dengan-keras-r))\n",
    "  \n",
    "**Asisten:  Cahya Alkahfi (Kelas A)    |    Alfa Nugraha (Kelas B)**   \n",
    "___"
   ]
  },
  {
   "cell_type": "markdown",
   "id": "f859122c",
   "metadata": {
    "papermill": {
     "duration": 0.003583,
     "end_time": "2023-09-30T17:50:38.994441",
     "exception": false,
     "start_time": "2023-09-30T17:50:38.990858",
     "status": "completed"
    },
    "tags": []
   },
   "source": [
    "## KLASIFIKASI MULTIKELAS"
   ]
  },
  {
   "cell_type": "markdown",
   "id": "1cee860c",
   "metadata": {
    "papermill": {
     "duration": 0.003617,
     "end_time": "2023-09-30T17:50:39.001724",
     "exception": false,
     "start_time": "2023-09-30T17:50:38.998107",
     "status": "completed"
    },
    "tags": []
   },
   "source": [
    "## 1.a Penyiapan Data"
   ]
  },
  {
   "cell_type": "code",
   "execution_count": 1,
   "id": "668edaf0",
   "metadata": {
    "execution": {
     "iopub.execute_input": "2023-09-30T17:50:39.010988Z",
     "iopub.status.busy": "2023-09-30T17:50:39.010509Z",
     "iopub.status.idle": "2023-09-30T17:50:39.307771Z",
     "shell.execute_reply": "2023-09-30T17:50:39.306949Z"
    },
    "papermill": {
     "duration": 0.304316,
     "end_time": "2023-09-30T17:50:39.309775",
     "exception": false,
     "start_time": "2023-09-30T17:50:39.005459",
     "status": "completed"
    },
    "tags": []
   },
   "outputs": [
    {
     "name": "stdout",
     "output_type": "stream",
     "text": [
      "<class 'pandas.core.frame.DataFrame'>\n",
      "RangeIndex: 2111 entries, 0 to 2110\n",
      "Data columns (total 17 columns):\n",
      " #   Column                          Non-Null Count  Dtype  \n",
      "---  ------                          --------------  -----  \n",
      " 0   Gender                          2111 non-null   object \n",
      " 1   Age                             2111 non-null   float64\n",
      " 2   Height                          2111 non-null   float64\n",
      " 3   Weight                          2111 non-null   float64\n",
      " 4   family_history_with_overweight  2111 non-null   object \n",
      " 5   FAVC                            2111 non-null   object \n",
      " 6   FCVC                            2111 non-null   float64\n",
      " 7   NCP                             2111 non-null   float64\n",
      " 8   CAEC                            2111 non-null   object \n",
      " 9   SMOKE                           2111 non-null   object \n",
      " 10  CH2O                            2111 non-null   float64\n",
      " 11  SCC                             2111 non-null   object \n",
      " 12  FAF                             2111 non-null   float64\n",
      " 13  TUE                             2111 non-null   float64\n",
      " 14  CALC                            2111 non-null   object \n",
      " 15  MTRANS                          2111 non-null   object \n",
      " 16  NObeyesdad                      2111 non-null   object \n",
      "dtypes: float64(8), object(9)\n",
      "memory usage: 280.5+ KB\n",
      "None\n",
      "['Normal' 'Overweight' 'Obesity' 'Insufficient']\n"
     ]
    }
   ],
   "source": [
    "import pandas as pd\n",
    "# memuat data CSV\n",
    "data = pd.read_csv(\"/kaggle/input/obesitas/obesitas.csv\")\n",
    "\n",
    "# menampilkan info data\n",
    "print(data.info())\n",
    "\n",
    "# menampilkan label dari kelas target\n",
    "print(data[\"NObeyesdad\"].unique())"
   ]
  },
  {
   "cell_type": "markdown",
   "id": "af87858a",
   "metadata": {
    "papermill": {
     "duration": 0.003738,
     "end_time": "2023-09-30T17:50:39.317970",
     "exception": false,
     "start_time": "2023-09-30T17:50:39.314232",
     "status": "completed"
    },
    "tags": []
   },
   "source": [
    "## 1.b Pembagian Data dan Features Scaling"
   ]
  },
  {
   "cell_type": "code",
   "execution_count": 2,
   "id": "9d63988e",
   "metadata": {
    "execution": {
     "iopub.execute_input": "2023-09-30T17:50:39.327355Z",
     "iopub.status.busy": "2023-09-30T17:50:39.326860Z",
     "iopub.status.idle": "2023-09-30T17:50:40.444746Z",
     "shell.execute_reply": "2023-09-30T17:50:40.443791Z"
    },
    "papermill": {
     "duration": 1.125066,
     "end_time": "2023-09-30T17:50:40.446759",
     "exception": false,
     "start_time": "2023-09-30T17:50:39.321693",
     "status": "completed"
    },
    "tags": []
   },
   "outputs": [],
   "source": [
    "from sklearn.model_selection import train_test_split\n",
    "from sklearn.preprocessing import MinMaxScaler\n",
    "\n",
    "\n",
    "# menentukan kolom fitur dan target\n",
    "X = data.drop([\"NObeyesdad\"], axis=1)\n",
    "y = data[\"NObeyesdad\"]\n",
    "\n",
    "# list kolom kategorik\n",
    "cat_features = [\n",
    "    \"Gender\",\n",
    "    \"family_history_with_overweight\",\n",
    "    \"FAVC\",\n",
    "    \"CAEC\",\n",
    "    \"SMOKE\",\n",
    "    \"SCC\",\n",
    "    \"CALC\",\n",
    "    \"MTRANS\",\n",
    "]\n",
    "\n",
    "# list kolom numerik\n",
    "num_features = X.columns[~X.columns.isin(cat_features)]\n",
    "\n",
    "# merubah fitur kategorik menjadi One Hot Encoding\n",
    "# dapat pula menggunakan to_categorical dari tensorflow.keras\n",
    "# atau OneHotEncoder dari sklearn.preprocessing\n",
    "X_cat = pd.get_dummies(X[cat_features], drop_first=True)\n",
    "\n",
    "# mengabungkan kembali fitur numerik dan OHE\n",
    "X_final = pd.concat([X[num_features], X_cat], axis=1)\n",
    "\n",
    "# membagi data train dan test\n",
    "X_train, X_test, y_train, y_test = train_test_split(\n",
    "    X_final, y, test_size=0.25, random_state=123\n",
    ")\n",
    "\n",
    "# features scaling\n",
    "scaler = MinMaxScaler()\n",
    "scaler.fit(X_train)\n",
    "X_train = scaler.transform(X_train)\n",
    "X_test = scaler.transform(X_test)\n",
    "\n",
    "# merubah kelas label menjadi numerik\n",
    "y_train = pd.get_dummies(y_train)\n",
    "y_test = pd.get_dummies(y_test)"
   ]
  },
  {
   "cell_type": "markdown",
   "id": "5c66ec34",
   "metadata": {
    "papermill": {
     "duration": 0.003771,
     "end_time": "2023-09-30T17:50:40.454810",
     "exception": false,
     "start_time": "2023-09-30T17:50:40.451039",
     "status": "completed"
    },
    "tags": []
   },
   "source": [
    "## 1.c Model 1 (1 hidden layer)"
   ]
  },
  {
   "cell_type": "code",
   "execution_count": 3,
   "id": "2ddb7629",
   "metadata": {
    "execution": {
     "iopub.execute_input": "2023-09-30T17:50:40.465092Z",
     "iopub.status.busy": "2023-09-30T17:50:40.464808Z",
     "iopub.status.idle": "2023-09-30T17:50:56.003658Z",
     "shell.execute_reply": "2023-09-30T17:50:56.002617Z"
    },
    "papermill": {
     "duration": 15.547035,
     "end_time": "2023-09-30T17:50:56.005690",
     "exception": false,
     "start_time": "2023-09-30T17:50:40.458655",
     "status": "completed"
    },
    "tags": []
   },
   "outputs": [
    {
     "name": "stdout",
     "output_type": "stream",
     "text": [
      "Epoch 1/100\n",
      "40/40 [==============================] - 1s 6ms/step - loss: 1.1708 - accuracy: 0.4700 - val_loss: 1.1186 - val_accuracy: 0.4700\n",
      "Epoch 2/100\n",
      "40/40 [==============================] - 0s 2ms/step - loss: 1.0552 - accuracy: 0.5126 - val_loss: 1.0234 - val_accuracy: 0.5331\n",
      "Epoch 3/100\n",
      "40/40 [==============================] - 0s 2ms/step - loss: 0.9714 - accuracy: 0.5648 - val_loss: 0.9422 - val_accuracy: 0.5741\n",
      "Epoch 4/100\n",
      "40/40 [==============================] - 0s 2ms/step - loss: 0.8952 - accuracy: 0.6058 - val_loss: 0.8753 - val_accuracy: 0.6057\n",
      "Epoch 5/100\n",
      "40/40 [==============================] - 0s 2ms/step - loss: 0.8345 - accuracy: 0.6501 - val_loss: 0.8408 - val_accuracy: 0.6151\n",
      "Epoch 6/100\n",
      "40/40 [==============================] - 0s 2ms/step - loss: 0.7963 - accuracy: 0.6603 - val_loss: 0.7974 - val_accuracy: 0.6341\n",
      "Epoch 7/100\n",
      "40/40 [==============================] - 0s 2ms/step - loss: 0.7498 - accuracy: 0.6927 - val_loss: 0.7511 - val_accuracy: 0.6404\n",
      "Epoch 8/100\n",
      "40/40 [==============================] - 0s 2ms/step - loss: 0.7108 - accuracy: 0.7062 - val_loss: 0.7187 - val_accuracy: 0.6562\n",
      "Epoch 9/100\n",
      "40/40 [==============================] - 0s 2ms/step - loss: 0.6759 - accuracy: 0.7117 - val_loss: 0.6916 - val_accuracy: 0.6751\n",
      "Epoch 10/100\n",
      "40/40 [==============================] - 0s 2ms/step - loss: 0.6435 - accuracy: 0.7393 - val_loss: 0.6710 - val_accuracy: 0.6782\n",
      "Epoch 11/100\n",
      "40/40 [==============================] - 0s 2ms/step - loss: 0.6153 - accuracy: 0.7512 - val_loss: 0.6418 - val_accuracy: 0.7413\n",
      "Epoch 12/100\n",
      "40/40 [==============================] - 0s 2ms/step - loss: 0.5884 - accuracy: 0.7662 - val_loss: 0.6299 - val_accuracy: 0.7855\n",
      "Epoch 13/100\n",
      "40/40 [==============================] - 0s 2ms/step - loss: 0.5608 - accuracy: 0.7978 - val_loss: 0.6036 - val_accuracy: 0.7445\n",
      "Epoch 14/100\n",
      "40/40 [==============================] - 0s 2ms/step - loss: 0.5375 - accuracy: 0.8088 - val_loss: 0.5836 - val_accuracy: 0.7666\n",
      "Epoch 15/100\n",
      "40/40 [==============================] - 0s 2ms/step - loss: 0.5159 - accuracy: 0.8104 - val_loss: 0.5702 - val_accuracy: 0.8013\n",
      "Epoch 16/100\n",
      "40/40 [==============================] - 0s 2ms/step - loss: 0.4948 - accuracy: 0.8262 - val_loss: 0.5481 - val_accuracy: 0.8233\n",
      "Epoch 17/100\n",
      "40/40 [==============================] - 0s 2ms/step - loss: 0.4762 - accuracy: 0.8381 - val_loss: 0.5309 - val_accuracy: 0.8170\n",
      "Epoch 18/100\n",
      "40/40 [==============================] - 0s 2ms/step - loss: 0.4547 - accuracy: 0.8468 - val_loss: 0.5194 - val_accuracy: 0.8328\n",
      "Epoch 19/100\n",
      "40/40 [==============================] - 0s 2ms/step - loss: 0.4361 - accuracy: 0.8641 - val_loss: 0.5047 - val_accuracy: 0.8297\n",
      "Epoch 20/100\n",
      "40/40 [==============================] - 0s 2ms/step - loss: 0.4221 - accuracy: 0.8665 - val_loss: 0.4930 - val_accuracy: 0.8265\n",
      "Epoch 21/100\n",
      "40/40 [==============================] - 0s 2ms/step - loss: 0.4055 - accuracy: 0.8752 - val_loss: 0.4781 - val_accuracy: 0.8423\n",
      "Epoch 22/100\n",
      "40/40 [==============================] - 0s 2ms/step - loss: 0.3901 - accuracy: 0.8760 - val_loss: 0.4671 - val_accuracy: 0.8423\n",
      "Epoch 23/100\n",
      "40/40 [==============================] - 0s 2ms/step - loss: 0.3758 - accuracy: 0.8870 - val_loss: 0.4586 - val_accuracy: 0.8549\n",
      "Epoch 24/100\n",
      "40/40 [==============================] - 0s 2ms/step - loss: 0.3640 - accuracy: 0.8934 - val_loss: 0.4495 - val_accuracy: 0.8454\n",
      "Epoch 25/100\n",
      "40/40 [==============================] - 0s 2ms/step - loss: 0.3502 - accuracy: 0.8973 - val_loss: 0.4370 - val_accuracy: 0.8517\n",
      "Epoch 26/100\n",
      "40/40 [==============================] - 0s 2ms/step - loss: 0.3404 - accuracy: 0.9044 - val_loss: 0.4282 - val_accuracy: 0.8580\n",
      "Epoch 27/100\n",
      "40/40 [==============================] - 0s 2ms/step - loss: 0.3330 - accuracy: 0.8957 - val_loss: 0.4202 - val_accuracy: 0.8391\n",
      "Epoch 28/100\n",
      "40/40 [==============================] - 0s 2ms/step - loss: 0.3225 - accuracy: 0.9139 - val_loss: 0.4141 - val_accuracy: 0.8644\n",
      "Epoch 29/100\n",
      "40/40 [==============================] - 0s 2ms/step - loss: 0.3120 - accuracy: 0.9076 - val_loss: 0.4093 - val_accuracy: 0.8612\n",
      "Epoch 30/100\n",
      "40/40 [==============================] - 0s 2ms/step - loss: 0.2980 - accuracy: 0.9179 - val_loss: 0.3962 - val_accuracy: 0.8675\n",
      "Epoch 31/100\n",
      "40/40 [==============================] - 0s 2ms/step - loss: 0.2897 - accuracy: 0.9218 - val_loss: 0.3889 - val_accuracy: 0.8644\n",
      "Epoch 32/100\n",
      "40/40 [==============================] - 0s 2ms/step - loss: 0.2800 - accuracy: 0.9218 - val_loss: 0.3828 - val_accuracy: 0.8707\n",
      "Epoch 33/100\n",
      "40/40 [==============================] - 0s 2ms/step - loss: 0.2735 - accuracy: 0.9265 - val_loss: 0.3755 - val_accuracy: 0.8770\n",
      "Epoch 34/100\n",
      "40/40 [==============================] - 0s 2ms/step - loss: 0.2637 - accuracy: 0.9313 - val_loss: 0.3693 - val_accuracy: 0.8707\n",
      "Epoch 35/100\n",
      "40/40 [==============================] - 0s 2ms/step - loss: 0.2579 - accuracy: 0.9313 - val_loss: 0.3655 - val_accuracy: 0.8707\n",
      "Epoch 36/100\n",
      "40/40 [==============================] - 0s 2ms/step - loss: 0.2497 - accuracy: 0.9344 - val_loss: 0.3575 - val_accuracy: 0.8801\n",
      "Epoch 37/100\n",
      "40/40 [==============================] - 0s 2ms/step - loss: 0.2437 - accuracy: 0.9344 - val_loss: 0.3515 - val_accuracy: 0.8707\n",
      "Epoch 38/100\n",
      "40/40 [==============================] - 0s 2ms/step - loss: 0.2384 - accuracy: 0.9368 - val_loss: 0.3495 - val_accuracy: 0.8801\n",
      "Epoch 39/100\n",
      "40/40 [==============================] - 0s 2ms/step - loss: 0.2328 - accuracy: 0.9384 - val_loss: 0.3430 - val_accuracy: 0.8896\n",
      "Epoch 40/100\n",
      "40/40 [==============================] - 0s 2ms/step - loss: 0.2247 - accuracy: 0.9439 - val_loss: 0.3377 - val_accuracy: 0.8896\n",
      "Epoch 41/100\n",
      "40/40 [==============================] - 0s 2ms/step - loss: 0.2205 - accuracy: 0.9384 - val_loss: 0.3381 - val_accuracy: 0.8770\n",
      "Epoch 42/100\n",
      "40/40 [==============================] - 0s 2ms/step - loss: 0.2134 - accuracy: 0.9415 - val_loss: 0.3269 - val_accuracy: 0.8959\n",
      "Epoch 43/100\n",
      "40/40 [==============================] - 0s 2ms/step - loss: 0.2078 - accuracy: 0.9502 - val_loss: 0.3217 - val_accuracy: 0.8959\n",
      "Epoch 44/100\n",
      "40/40 [==============================] - 0s 2ms/step - loss: 0.2045 - accuracy: 0.9479 - val_loss: 0.3170 - val_accuracy: 0.8927\n",
      "Epoch 45/100\n",
      "40/40 [==============================] - 0s 2ms/step - loss: 0.1990 - accuracy: 0.9542 - val_loss: 0.3142 - val_accuracy: 0.8927\n",
      "Epoch 46/100\n",
      "40/40 [==============================] - 0s 2ms/step - loss: 0.1950 - accuracy: 0.9502 - val_loss: 0.3108 - val_accuracy: 0.8927\n",
      "Epoch 47/100\n",
      "40/40 [==============================] - 0s 2ms/step - loss: 0.1883 - accuracy: 0.9558 - val_loss: 0.3036 - val_accuracy: 0.8991\n",
      "Epoch 48/100\n",
      "40/40 [==============================] - 0s 2ms/step - loss: 0.1827 - accuracy: 0.9550 - val_loss: 0.3002 - val_accuracy: 0.9085\n",
      "Epoch 49/100\n",
      "40/40 [==============================] - 0s 2ms/step - loss: 0.1827 - accuracy: 0.9526 - val_loss: 0.3030 - val_accuracy: 0.9022\n",
      "Epoch 50/100\n",
      "40/40 [==============================] - 0s 2ms/step - loss: 0.1764 - accuracy: 0.9597 - val_loss: 0.2925 - val_accuracy: 0.9054\n",
      "Epoch 51/100\n",
      "40/40 [==============================] - 0s 2ms/step - loss: 0.1700 - accuracy: 0.9613 - val_loss: 0.2906 - val_accuracy: 0.8991\n",
      "Epoch 52/100\n",
      "40/40 [==============================] - 0s 2ms/step - loss: 0.1690 - accuracy: 0.9581 - val_loss: 0.2876 - val_accuracy: 0.8927\n",
      "Epoch 53/100\n",
      "40/40 [==============================] - 0s 2ms/step - loss: 0.1622 - accuracy: 0.9605 - val_loss: 0.2833 - val_accuracy: 0.9022\n",
      "Epoch 54/100\n",
      "40/40 [==============================] - 0s 2ms/step - loss: 0.1597 - accuracy: 0.9605 - val_loss: 0.2826 - val_accuracy: 0.9054\n",
      "Epoch 55/100\n",
      "40/40 [==============================] - 0s 2ms/step - loss: 0.1577 - accuracy: 0.9629 - val_loss: 0.2754 - val_accuracy: 0.9085\n",
      "Epoch 56/100\n",
      "40/40 [==============================] - 0s 2ms/step - loss: 0.1515 - accuracy: 0.9645 - val_loss: 0.2747 - val_accuracy: 0.9148\n",
      "Epoch 57/100\n",
      "40/40 [==============================] - 0s 2ms/step - loss: 0.1481 - accuracy: 0.9637 - val_loss: 0.2713 - val_accuracy: 0.9085\n",
      "Epoch 58/100\n",
      "40/40 [==============================] - 0s 2ms/step - loss: 0.1452 - accuracy: 0.9660 - val_loss: 0.2667 - val_accuracy: 0.9148\n",
      "Epoch 59/100\n",
      "40/40 [==============================] - 0s 2ms/step - loss: 0.1429 - accuracy: 0.9668 - val_loss: 0.2653 - val_accuracy: 0.9085\n",
      "Epoch 60/100\n",
      "40/40 [==============================] - 0s 2ms/step - loss: 0.1401 - accuracy: 0.9700 - val_loss: 0.2605 - val_accuracy: 0.9117\n",
      "Epoch 61/100\n",
      "40/40 [==============================] - 0s 2ms/step - loss: 0.1354 - accuracy: 0.9716 - val_loss: 0.2612 - val_accuracy: 0.9243\n",
      "Epoch 62/100\n",
      "40/40 [==============================] - 0s 2ms/step - loss: 0.1318 - accuracy: 0.9708 - val_loss: 0.2545 - val_accuracy: 0.9148\n",
      "Epoch 63/100\n",
      "40/40 [==============================] - 0s 2ms/step - loss: 0.1301 - accuracy: 0.9692 - val_loss: 0.2507 - val_accuracy: 0.9274\n",
      "Epoch 64/100\n",
      "40/40 [==============================] - 0s 2ms/step - loss: 0.1279 - accuracy: 0.9708 - val_loss: 0.2483 - val_accuracy: 0.9148\n",
      "Epoch 65/100\n",
      "40/40 [==============================] - 0s 2ms/step - loss: 0.1227 - accuracy: 0.9724 - val_loss: 0.2563 - val_accuracy: 0.9243\n",
      "Epoch 66/100\n",
      "40/40 [==============================] - 0s 2ms/step - loss: 0.1220 - accuracy: 0.9763 - val_loss: 0.2499 - val_accuracy: 0.9306\n",
      "Epoch 67/100\n",
      "40/40 [==============================] - 0s 2ms/step - loss: 0.1188 - accuracy: 0.9771 - val_loss: 0.2417 - val_accuracy: 0.9274\n",
      "Epoch 68/100\n",
      "40/40 [==============================] - 0s 2ms/step - loss: 0.1164 - accuracy: 0.9771 - val_loss: 0.2405 - val_accuracy: 0.9274\n",
      "Epoch 69/100\n",
      "40/40 [==============================] - 0s 2ms/step - loss: 0.1149 - accuracy: 0.9779 - val_loss: 0.2373 - val_accuracy: 0.9243\n",
      "Epoch 70/100\n",
      "40/40 [==============================] - 0s 2ms/step - loss: 0.1143 - accuracy: 0.9731 - val_loss: 0.2357 - val_accuracy: 0.9306\n",
      "Epoch 71/100\n",
      "40/40 [==============================] - 0s 2ms/step - loss: 0.1092 - accuracy: 0.9810 - val_loss: 0.2398 - val_accuracy: 0.9306\n",
      "Epoch 72/100\n",
      "40/40 [==============================] - 0s 2ms/step - loss: 0.1089 - accuracy: 0.9779 - val_loss: 0.2304 - val_accuracy: 0.9243\n",
      "Epoch 73/100\n",
      "40/40 [==============================] - 0s 2ms/step - loss: 0.1051 - accuracy: 0.9810 - val_loss: 0.2340 - val_accuracy: 0.9243\n",
      "Epoch 74/100\n",
      "40/40 [==============================] - 0s 2ms/step - loss: 0.1041 - accuracy: 0.9795 - val_loss: 0.2268 - val_accuracy: 0.9369\n",
      "Epoch 75/100\n",
      "40/40 [==============================] - 0s 2ms/step - loss: 0.1012 - accuracy: 0.9803 - val_loss: 0.2236 - val_accuracy: 0.9338\n",
      "Epoch 76/100\n",
      "40/40 [==============================] - 0s 2ms/step - loss: 0.0992 - accuracy: 0.9803 - val_loss: 0.2198 - val_accuracy: 0.9432\n",
      "Epoch 77/100\n",
      "40/40 [==============================] - 0s 2ms/step - loss: 0.0968 - accuracy: 0.9842 - val_loss: 0.2209 - val_accuracy: 0.9369\n",
      "Epoch 78/100\n",
      "40/40 [==============================] - 0s 2ms/step - loss: 0.0955 - accuracy: 0.9834 - val_loss: 0.2169 - val_accuracy: 0.9306\n",
      "Epoch 79/100\n",
      "40/40 [==============================] - 0s 2ms/step - loss: 0.0929 - accuracy: 0.9818 - val_loss: 0.2161 - val_accuracy: 0.9464\n",
      "Epoch 80/100\n",
      "40/40 [==============================] - 0s 2ms/step - loss: 0.0909 - accuracy: 0.9834 - val_loss: 0.2152 - val_accuracy: 0.9369\n",
      "Epoch 81/100\n",
      "40/40 [==============================] - 0s 2ms/step - loss: 0.0893 - accuracy: 0.9842 - val_loss: 0.2152 - val_accuracy: 0.9401\n",
      "Epoch 82/100\n",
      "40/40 [==============================] - 0s 2ms/step - loss: 0.0886 - accuracy: 0.9818 - val_loss: 0.2136 - val_accuracy: 0.9369\n",
      "Epoch 83/100\n",
      "40/40 [==============================] - 0s 2ms/step - loss: 0.0886 - accuracy: 0.9889 - val_loss: 0.2095 - val_accuracy: 0.9432\n",
      "Epoch 84/100\n",
      "40/40 [==============================] - 0s 2ms/step - loss: 0.0853 - accuracy: 0.9866 - val_loss: 0.2072 - val_accuracy: 0.9432\n",
      "Epoch 85/100\n",
      "40/40 [==============================] - 0s 2ms/step - loss: 0.0830 - accuracy: 0.9858 - val_loss: 0.2064 - val_accuracy: 0.9432\n",
      "Epoch 86/100\n",
      "40/40 [==============================] - 0s 2ms/step - loss: 0.0814 - accuracy: 0.9866 - val_loss: 0.2044 - val_accuracy: 0.9338\n",
      "Epoch 87/100\n",
      "40/40 [==============================] - 0s 2ms/step - loss: 0.0806 - accuracy: 0.9889 - val_loss: 0.2052 - val_accuracy: 0.9464\n",
      "Epoch 88/100\n",
      "40/40 [==============================] - 0s 2ms/step - loss: 0.0783 - accuracy: 0.9897 - val_loss: 0.2021 - val_accuracy: 0.9432\n",
      "Epoch 89/100\n",
      "40/40 [==============================] - 0s 2ms/step - loss: 0.0766 - accuracy: 0.9882 - val_loss: 0.2006 - val_accuracy: 0.9527\n",
      "Epoch 90/100\n",
      "40/40 [==============================] - 0s 2ms/step - loss: 0.0751 - accuracy: 0.9897 - val_loss: 0.2008 - val_accuracy: 0.9495\n",
      "Epoch 91/100\n",
      "40/40 [==============================] - 0s 2ms/step - loss: 0.0744 - accuracy: 0.9897 - val_loss: 0.2028 - val_accuracy: 0.9495\n",
      "Epoch 92/100\n",
      "40/40 [==============================] - 0s 2ms/step - loss: 0.0734 - accuracy: 0.9905 - val_loss: 0.1980 - val_accuracy: 0.9527\n",
      "Epoch 93/100\n",
      "40/40 [==============================] - 0s 2ms/step - loss: 0.0724 - accuracy: 0.9889 - val_loss: 0.1939 - val_accuracy: 0.9527\n",
      "Epoch 94/100\n",
      "40/40 [==============================] - 0s 2ms/step - loss: 0.0712 - accuracy: 0.9913 - val_loss: 0.1967 - val_accuracy: 0.9527\n",
      "Epoch 95/100\n",
      "40/40 [==============================] - 0s 2ms/step - loss: 0.0697 - accuracy: 0.9889 - val_loss: 0.1925 - val_accuracy: 0.9464\n",
      "Epoch 96/100\n",
      "40/40 [==============================] - 0s 2ms/step - loss: 0.0674 - accuracy: 0.9897 - val_loss: 0.1923 - val_accuracy: 0.9527\n",
      "Epoch 97/100\n",
      "40/40 [==============================] - 0s 2ms/step - loss: 0.0662 - accuracy: 0.9921 - val_loss: 0.1942 - val_accuracy: 0.9558\n",
      "Epoch 98/100\n",
      "40/40 [==============================] - 0s 2ms/step - loss: 0.0663 - accuracy: 0.9905 - val_loss: 0.1900 - val_accuracy: 0.9527\n",
      "Epoch 99/100\n",
      "40/40 [==============================] - 0s 2ms/step - loss: 0.0649 - accuracy: 0.9889 - val_loss: 0.1883 - val_accuracy: 0.9495\n",
      "Epoch 100/100\n",
      "40/40 [==============================] - 0s 2ms/step - loss: 0.0653 - accuracy: 0.9921 - val_loss: 0.1906 - val_accuracy: 0.9495\n",
      "Model: \"sequential\"\n",
      "_________________________________________________________________\n",
      " Layer (type)                Output Shape              Param #   \n",
      "=================================================================\n",
      " dense (Dense)               (None, 100)               2400      \n",
      "                                                                 \n",
      " dense_1 (Dense)             (None, 4)                 404       \n",
      "                                                                 \n",
      "=================================================================\n",
      "Total params: 2,804\n",
      "Trainable params: 2,804\n",
      "Non-trainable params: 0\n",
      "_________________________________________________________________\n",
      "None\n",
      "17/17 [==============================] - 0s 1ms/step - loss: 0.1642 - accuracy: 0.9394\n",
      "\n",
      " [0.16415992379188538, 0.939393937587738] \n",
      "\n",
      "Loss: 0.16415992379188538\n",
      "Accuracy: 0.939393937587738\n"
     ]
    }
   ],
   "source": [
    "from keras.models import Sequential\n",
    "from keras.layers import Dense\n",
    "\n",
    "# Membangun model neural network\n",
    "model_1 = Sequential()\n",
    "model_1.add(Dense(units=100, input_dim=X_train.shape[1], activation=\"relu\"))   # hidden layer ke-1\n",
    "model_1.add(Dense(units=4, activation=\"softmax\"))  # output layar : unit=4 (sebanyak kelas output)\n",
    "\n",
    "# Mengompilasi model\n",
    "model_1.compile(\n",
    "    optimizer=\"adam\",\n",
    "    loss=\"categorical_crossentropy\",\n",
    "    metrics=[\"accuracy\"],\n",
    ")\n",
    "\n",
    "# Melatih model\n",
    "history = model_1.fit(\n",
    "    X_train,\n",
    "    y_train,\n",
    "    epochs=100,\n",
    "    validation_split=0.2,\n",
    ")\n",
    "\n",
    "print(model_1.summary())\n",
    "\n",
    "# Evaluasi model pada data test\n",
    "scores = model_1.evaluate(X_test, y_test)\n",
    "print(\"\\n\", scores,\"\\n\" )\n",
    "\n",
    "print(\"Loss:\", scores[0])\n",
    "print(\"Accuracy:\", scores[1])"
   ]
  },
  {
   "cell_type": "markdown",
   "id": "1aedd652",
   "metadata": {
    "papermill": {
     "duration": 0.014539,
     "end_time": "2023-09-30T17:50:56.035356",
     "exception": false,
     "start_time": "2023-09-30T17:50:56.020817",
     "status": "completed"
    },
    "tags": []
   },
   "source": [
    "## 1.d Prediksi Data Uji (MODEL 1)"
   ]
  },
  {
   "cell_type": "code",
   "execution_count": 4,
   "id": "9fdd4bec",
   "metadata": {
    "execution": {
     "iopub.execute_input": "2023-09-30T17:50:56.066576Z",
     "iopub.status.busy": "2023-09-30T17:50:56.066277Z",
     "iopub.status.idle": "2023-09-30T17:50:56.304969Z",
     "shell.execute_reply": "2023-09-30T17:50:56.304039Z"
    },
    "papermill": {
     "duration": 0.256225,
     "end_time": "2023-09-30T17:50:56.306634",
     "exception": false,
     "start_time": "2023-09-30T17:50:56.050409",
     "status": "completed"
    },
    "tags": []
   },
   "outputs": [
    {
     "name": "stdout",
     "output_type": "stream",
     "text": [
      "17/17 [==============================] - 0s 1ms/step - loss: 0.1642 - accuracy: 0.9394\n",
      "17/17 [==============================] - 0s 798us/step\n",
      "\n",
      " [0 2 2 3 2 2 2 3 2 1 2 2 1 2 3 3 2 3 2 0 3 3 2 3 0 2 3 2 3 2 3 3 2 1 2 3 3\n",
      " 3 2 0 2 2 2 3 3 2 3 2 2 3 0 3 2 1 2 0 0 3 3 1 2 2 2 2 3 1 0 2 0 3 3 3 0 2\n",
      " 2 2 2 3 3 2 3 1 3 2 2 2 2 2 2 2 2 2 2 3 2 1 2 2 3 2 2 2 0 3 2 2 0 2 1 3 2\n",
      " 3 2 3 2 3 2 2 1 2 2 2 2 3 3 2 1 1 0 3 2 1 0 0 2 2 2 2 2 2 2 3 3 2 2 1 0 2\n",
      " 2 2 3 3 2 3 3 3 3 3 2 0 2 2 2 3 2 1 0 2 1 3 0 2 2 3 1 2 3 0 2 3 2 3 2 2 2\n",
      " 3 0 1 3 3 2 0 2 0 2 2 2 2 3 2 1 3 1 2 3 0 3 3 2 2 2 2 2 0 2 2 0 2 3 2 2 2\n",
      " 1 1 3 2 2 3 2 0 2 3 0 3 0 2 2 1 0 2 2 3 1 2 3 1 0 2 3 3 3 2 2 2 0 2 0 0 3\n",
      " 2 0 2 1 3 2 2 0 0 0 2 2 2 2 2 1 3 0 3 2 1 2 3 2 3 2 0 2 1 3 0 3 3 1 1 3 0\n",
      " 3 2 3 2 0 0 1 3 0 2 1 2 2 2 3 3 2 0 1 2 3 3 0 3 3 1 0 0 2 2 2 2 1 2 3 1 3\n",
      " 0 1 2 2 2 2 3 1 3 2 2 1 2 1 0 0 0 3 2 2 2 2 2 2 2 0 2 0 2 1 2 2 0 2 2 2 3\n",
      " 2 2 2 2 3 2 2 1 2 2 1 3 3 1 1 1 0 0 3 2 2 1 1 2 2 2 0 2 1 0 3 2 0 1 0 3 2\n",
      " 3 3 2 3 1 2 3 1 2 2 3 0 2 3 2 1 0 3 0 3 1 2 3 3 3 2 3 2 2 3 0 0 1 0 1 2 2\n",
      " 3 1 1 2 3 3 1 2 2 1 2 3 3 3 2 2 3 2 2 1 3 2 2 2 1 3 2 3 0 2 0 1 2 0 2 0 2\n",
      " 2 3 1 3 0 0 2 2 3 2 2 2 0 2 2 3 1 3 3 1 3 2 2 2 1 0 2 3 3 0 2 3 3 2 2 2 2\n",
      " 3 2 3 2 3 2 0 2 2 0]\n",
      "\n",
      "              precision    recall  f1-score   support\n",
      "\n",
      "           0       0.95      0.95      0.95        79\n",
      "           1       0.82      0.79      0.81        71\n",
      "           2       0.99      0.99      0.99       241\n",
      "           3       0.90      0.93      0.91       137\n",
      "\n",
      "    accuracy                           0.94       528\n",
      "   macro avg       0.92      0.91      0.91       528\n",
      "weighted avg       0.94      0.94      0.94       528\n",
      "\n"
     ]
    }
   ],
   "source": [
    "import numpy as np\n",
    "from sklearn.metrics import confusion_matrix, classification_report, ConfusionMatrixDisplay\n",
    "\n",
    "# Evaluasi model pada data test\n",
    "loss, accuracy = model_1.evaluate(X_test, y_test)\n",
    "\n",
    "# melihat prediksi pada data test\n",
    "y_pred = model_1.predict(X_test)\n",
    "\n",
    "# Mengkonversi prediksi menjadi label kelas\n",
    "y_pred_class = np.argmax(y_pred, axis=1)\n",
    "\n",
    "# Menampilkan hasil prediksi\n",
    "print(\"\\n\", y_pred_class)\n",
    "\n",
    "# Mengonversi y_test menjadi label kelas\n",
    "y_test_class = np.argmax(y_test, axis=1)\n",
    "\n",
    "print()\n",
    "# menampilkan metrik klasifikasi\n",
    "print(classification_report(y_test_class, y_pred_class))"
   ]
  },
  {
   "cell_type": "code",
   "execution_count": 5,
   "id": "5b7732d1",
   "metadata": {
    "execution": {
     "iopub.execute_input": "2023-09-30T17:50:56.339372Z",
     "iopub.status.busy": "2023-09-30T17:50:56.338925Z",
     "iopub.status.idle": "2023-09-30T17:50:56.544637Z",
     "shell.execute_reply": "2023-09-30T17:50:56.543452Z"
    },
    "papermill": {
     "duration": 0.224998,
     "end_time": "2023-09-30T17:50:56.546810",
     "exception": false,
     "start_time": "2023-09-30T17:50:56.321812",
     "status": "completed"
    },
    "tags": []
   },
   "outputs": [
    {
     "data": {
      "image/png": "[encoded data removed]",
      "text/plain": [
       "<Figure size 640x480 with 2 Axes>"
      ]
     },
     "metadata": {},
     "output_type": "display_data"
    }
   ],
   "source": [
    "import matplotlib.pyplot as plt\n",
    "\n",
    "# memvisualisasikan confusion matrix\n",
    "disp = ConfusionMatrixDisplay(\n",
    "    confusion_matrix(y_pred_class, y_test_class), display_labels=y_test.columns\n",
    ")\n",
    "\n",
    "disp.plot()\n",
    "plt.show()"
   ]
  },
  {
   "cell_type": "markdown",
   "id": "e5f57288",
   "metadata": {
    "papermill": {
     "duration": 0.063281,
     "end_time": "2023-09-30T17:50:56.625926",
     "exception": false,
     "start_time": "2023-09-30T17:50:56.562645",
     "status": "completed"
    },
    "tags": []
   },
   "source": [
    "## 1.e Model 2 (2 hidden layer + dropout)"
   ]
  },
  {
   "cell_type": "code",
   "execution_count": 6,
   "id": "79e2b118",
   "metadata": {
    "execution": {
     "iopub.execute_input": "2023-09-30T17:50:56.658834Z",
     "iopub.status.busy": "2023-09-30T17:50:56.657852Z",
     "iopub.status.idle": "2023-09-30T17:51:05.870476Z",
     "shell.execute_reply": "2023-09-30T17:51:05.869466Z"
    },
    "papermill": {
     "duration": 9.230619,
     "end_time": "2023-09-30T17:51:05.871971",
     "exception": false,
     "start_time": "2023-09-30T17:50:56.641352",
     "status": "completed"
    },
    "tags": []
   },
   "outputs": [
    {
     "name": "stdout",
     "output_type": "stream",
     "text": [
      "Model: \"sequential_1\"\n",
      "_________________________________________________________________\n",
      " Layer (type)                Output Shape              Param #   \n",
      "=================================================================\n",
      " dense_2 (Dense)             (None, 128)               3072      \n",
      "                                                                 \n",
      " dropout (Dropout)           (None, 128)               0         \n",
      "                                                                 \n",
      " dense_3 (Dense)             (None, 64)                8256      \n",
      "                                                                 \n",
      " dropout_1 (Dropout)         (None, 64)                0         \n",
      "                                                                 \n",
      " dense_4 (Dense)             (None, 4)                 260       \n",
      "                                                                 \n",
      "=================================================================\n",
      "Total params: 11,588\n",
      "Trainable params: 11,588\n",
      "Non-trainable params: 0\n",
      "_________________________________________________________________\n",
      "None\n",
      "\n",
      "17/17 [==============================] - 0s 1ms/step - loss: 0.1735 - accuracy: 0.9545\n",
      "Loss: 0.17348229885101318\n",
      "Accuracy: 0.9545454382896423\n"
     ]
    }
   ],
   "source": [
    "from keras.models import Sequential\n",
    "from keras.layers import Dense, Dropout\n",
    "\n",
    "# Membangun model neural network\n",
    "model_2 = Sequential()\n",
    "model_2.add(Dense(units=128, input_dim=X_train.shape[1], activation=\"relu\"))   # hidden layer ke-1\n",
    "model_2.add(Dropout(0.2))                                                      # dropout\n",
    "model_2.add(Dense(units=64, activation=\"relu\"))                                # hidden layer ke-2\n",
    "model_2.add(Dropout(0.2))                                                      # dropout\n",
    "model_2.add(Dense(units=4, activation=\"softmax\"))                              # output layer\n",
    "\n",
    "# Mengompilasi model\n",
    "model_2.compile(\n",
    "    optimizer=\"adam\",\n",
    "    loss=\"categorical_crossentropy\",\n",
    "    metrics=[\"accuracy\"],\n",
    ")\n",
    "\n",
    "# Melatih model\n",
    "model_2.fit(\n",
    "    X_train,\n",
    "    y_train,\n",
    "    epochs=100,\n",
    "    validation_split=0.2,\n",
    "    verbose=0\n",
    ")\n",
    "\n",
    "print(model_2.summary())\n",
    "\n",
    "print()\n",
    "\n",
    "# Evaluasi model pada data test\n",
    "loss, accuracy = model_2.evaluate(X_test, y_test)\n",
    "print(\"Loss:\", loss)\n",
    "print(\"Accuracy:\", accuracy)"
   ]
  },
  {
   "cell_type": "markdown",
   "id": "efd6642e",
   "metadata": {
    "papermill": {
     "duration": 0.015966,
     "end_time": "2023-09-30T17:51:05.904785",
     "exception": false,
     "start_time": "2023-09-30T17:51:05.888819",
     "status": "completed"
    },
    "tags": []
   },
   "source": [
    "## 1.f Menyimpan dan Memuat Model (Model 2)"
   ]
  },
  {
   "cell_type": "code",
   "execution_count": 7,
   "id": "a32720f6",
   "metadata": {
    "execution": {
     "iopub.execute_input": "2023-09-30T17:51:05.938769Z",
     "iopub.status.busy": "2023-09-30T17:51:05.938467Z",
     "iopub.status.idle": "2023-09-30T17:51:06.046399Z",
     "shell.execute_reply": "2023-09-30T17:51:06.045398Z"
    },
    "papermill": {
     "duration": 0.126624,
     "end_time": "2023-09-30T17:51:06.047814",
     "exception": false,
     "start_time": "2023-09-30T17:51:05.921190",
     "status": "completed"
    },
    "tags": []
   },
   "outputs": [
    {
     "name": "stdout",
     "output_type": "stream",
     "text": [
      "Model: \"sequential_1\"\n",
      "_________________________________________________________________\n",
      " Layer (type)                Output Shape              Param #   \n",
      "=================================================================\n",
      " dense_2 (Dense)             (None, 128)               3072      \n",
      "                                                                 \n",
      " dropout (Dropout)           (None, 128)               0         \n",
      "                                                                 \n",
      " dense_3 (Dense)             (None, 64)                8256      \n",
      "                                                                 \n",
      " dropout_1 (Dropout)         (None, 64)                0         \n",
      "                                                                 \n",
      " dense_4 (Dense)             (None, 4)                 260       \n",
      "                                                                 \n",
      "=================================================================\n",
      "Total params: 11,588\n",
      "Trainable params: 11,588\n",
      "Non-trainable params: 0\n",
      "_________________________________________________________________\n"
     ]
    }
   ],
   "source": [
    "from keras.models import load_model\n",
    "\n",
    "# menyimpan model_2 dengan method save\n",
    "model_2.save(\"model_2.keras\")\n",
    "\n",
    "# memuat model_2 dengan fungsi load_model dari keras.models\n",
    "my_model_2 = load_model(\"model_2.keras\")\n",
    "\n",
    "my_model_2.summary()"
   ]
  },
  {
   "cell_type": "markdown",
   "id": "d2d4400a",
   "metadata": {
    "papermill": {
     "duration": 0.016583,
     "end_time": "2023-09-30T17:51:06.081342",
     "exception": false,
     "start_time": "2023-09-30T17:51:06.064759",
     "status": "completed"
    },
    "tags": []
   },
   "source": [
    "## 1.g Prediksi Data Uji (MY MODEL 2)"
   ]
  },
  {
   "cell_type": "code",
   "execution_count": 8,
   "id": "8a67f49a",
   "metadata": {
    "execution": {
     "iopub.execute_input": "2023-09-30T17:51:06.117079Z",
     "iopub.status.busy": "2023-09-30T17:51:06.116752Z",
     "iopub.status.idle": "2023-09-30T17:51:06.584032Z",
     "shell.execute_reply": "2023-09-30T17:51:06.583212Z"
    },
    "papermill": {
     "duration": 0.486849,
     "end_time": "2023-09-30T17:51:06.585509",
     "exception": false,
     "start_time": "2023-09-30T17:51:06.098660",
     "status": "completed"
    },
    "tags": []
   },
   "outputs": [
    {
     "name": "stdout",
     "output_type": "stream",
     "text": [
      "17/17 [==============================] - 0s 1ms/step - loss: 0.1735 - accuracy: 0.9545\n",
      "17/17 [==============================] - 0s 1ms/step\n",
      "\n",
      " [0 2 2 3 2 2 2 3 2 1 2 2 1 2 3 3 2 3 2 1 3 3 2 3 0 2 3 2 3 2 3 3 2 1 2 3 3\n",
      " 3 2 0 2 2 2 3 3 2 3 2 2 3 0 3 2 1 2 0 0 3 3 1 2 2 2 2 3 1 0 2 0 3 3 3 0 2\n",
      " 2 2 2 3 3 2 3 1 3 2 2 2 2 2 2 2 2 2 2 3 2 1 2 2 3 2 2 2 0 3 2 2 0 2 1 3 2\n",
      " 3 2 3 2 3 2 2 3 2 2 2 2 3 3 2 1 1 0 3 2 1 0 0 2 2 2 2 2 2 2 3 3 2 2 1 0 2\n",
      " 2 2 3 3 2 3 3 3 3 3 2 0 2 2 2 3 2 1 0 2 1 3 0 2 2 3 1 2 3 0 2 3 2 3 2 2 2\n",
      " 1 0 1 3 3 2 0 2 0 2 2 2 2 3 2 1 3 1 2 3 0 3 3 2 2 2 2 2 0 2 2 0 2 3 2 2 2\n",
      " 1 1 3 2 2 3 2 0 2 3 0 3 0 2 2 1 0 2 2 3 1 2 3 0 0 2 3 3 3 2 2 2 0 2 0 0 1\n",
      " 2 0 2 1 3 2 2 0 0 0 2 2 2 2 2 1 3 0 3 2 1 2 3 2 1 2 0 2 1 3 0 3 3 1 1 3 0\n",
      " 3 2 3 2 0 0 1 3 0 2 1 2 2 2 3 3 2 0 1 2 3 3 0 3 3 1 0 0 2 2 2 2 3 2 3 1 3\n",
      " 0 1 2 2 2 2 3 0 3 2 2 1 2 1 0 0 0 3 2 2 2 2 2 2 2 0 2 0 2 1 2 2 0 2 2 2 3\n",
      " 2 2 2 2 3 2 2 3 2 2 0 3 3 1 1 1 0 0 3 2 2 1 1 2 2 2 0 2 1 0 3 2 0 1 0 3 2\n",
      " 3 3 2 3 1 2 3 1 2 2 3 0 2 3 2 1 0 3 0 3 1 2 3 3 3 2 3 2 3 3 0 0 1 0 1 2 2\n",
      " 3 1 1 2 3 3 1 2 2 1 2 3 3 3 2 2 3 2 2 1 3 2 2 2 1 3 2 3 0 2 0 1 2 0 2 0 2\n",
      " 2 3 1 3 0 0 2 2 3 2 2 2 0 2 2 3 1 3 3 1 3 2 2 2 1 0 2 3 3 0 2 2 3 2 2 2 2\n",
      " 3 2 3 2 3 2 0 2 2 0]\n",
      "\n",
      "              precision    recall  f1-score   support\n",
      "\n",
      "           0       0.96      0.99      0.97        79\n",
      "           1       0.89      0.83      0.86        71\n",
      "           2       0.99      0.99      0.99       241\n",
      "           3       0.91      0.94      0.93       137\n",
      "\n",
      "    accuracy                           0.95       528\n",
      "   macro avg       0.94      0.94      0.94       528\n",
      "weighted avg       0.95      0.95      0.95       528\n",
      "\n",
      "\n"
     ]
    },
    {
     "data": {
      "image/png": "[encoded data removed]",
      "text/plain": [
       "<Figure size 640x480 with 2 Axes>"
      ]
     },
     "metadata": {},
     "output_type": "display_data"
    }
   ],
   "source": [
    "# Evaluasi model pada data test\n",
    "loss, accuracy = my_model_2.evaluate(X_test, y_test)\n",
    "\n",
    "# melihat prediksi pada data test\n",
    "y_pred = my_model_2.predict(X_test)\n",
    "\n",
    "# Mengkonversi prediksi menjadi label kelas\n",
    "y_pred_class = np.argmax(y_pred, axis=1)\n",
    "\n",
    "# Menampilkan hasil prediksi\n",
    "print(\"\\n\", y_pred_class)\n",
    "\n",
    "# Mengonversi y_test menjadi label kelas\n",
    "y_test_class = np.argmax(y_test, axis=1)\n",
    "\n",
    "print()\n",
    "\n",
    "# menampilkan metrik klasifikasi\n",
    "print(classification_report(y_test_class, y_pred_class))\n",
    "\n",
    "print()\n",
    "\n",
    "# memvisualisasikan confusion matrix\n",
    "disp = ConfusionMatrixDisplay(\n",
    "    confusion_matrix(y_pred_class, y_test_class), display_labels=y_test.columns\n",
    ")\n",
    "\n",
    "disp.plot()\n",
    "plt.show()"
   ]
  },
  {
   "cell_type": "markdown",
   "id": "b04d2c90",
   "metadata": {
    "papermill": {
     "duration": 0.016633,
     "end_time": "2023-09-30T17:51:06.620170",
     "exception": false,
     "start_time": "2023-09-30T17:51:06.603537",
     "status": "completed"
    },
    "tags": []
   },
   "source": [
    "## 1.h Model 3 (2 hidden layer + dropout + callback)"
   ]
  },
  {
   "cell_type": "code",
   "execution_count": 9,
   "id": "bbc62c62",
   "metadata": {
    "execution": {
     "iopub.execute_input": "2023-09-30T17:51:06.655128Z",
     "iopub.status.busy": "2023-09-30T17:51:06.654819Z",
     "iopub.status.idle": "2023-09-30T17:51:13.701976Z",
     "shell.execute_reply": "2023-09-30T17:51:13.701287Z"
    },
    "papermill": {
     "duration": 7.066502,
     "end_time": "2023-09-30T17:51:13.703411",
     "exception": false,
     "start_time": "2023-09-30T17:51:06.636909",
     "status": "completed"
    },
    "tags": []
   },
   "outputs": [
    {
     "name": "stdout",
     "output_type": "stream",
     "text": [
      "Epoch 1/100\n",
      "34/50 [===================>..........] - ETA: 0s - loss: 1.2788 - accuracy: 0.4062 \n",
      "Epoch 1: val_accuracy improved from -inf to 0.46591, saving model to model_check.keras\n",
      "50/50 [==============================] - 1s 5ms/step - loss: 1.2371 - accuracy: 0.4258 - val_loss: 1.1365 - val_accuracy: 0.4659\n",
      "Epoch 2/100\n",
      "36/50 [====================>.........] - ETA: 0s - loss: 1.0852 - accuracy: 0.4948\n",
      "Epoch 2: val_accuracy improved from 0.46591 to 0.52652, saving model to model_check.keras\n",
      "50/50 [==============================] - 0s 2ms/step - loss: 1.0579 - accuracy: 0.5117 - val_loss: 1.0214 - val_accuracy: 0.5265\n",
      "Epoch 3/100\n",
      "33/50 [==================>...........] - ETA: 0s - loss: 0.9763 - accuracy: 0.5814\n",
      "Epoch 3: val_accuracy improved from 0.52652 to 0.55682, saving model to model_check.keras\n",
      "50/50 [==============================] - 0s 2ms/step - loss: 0.9582 - accuracy: 0.5900 - val_loss: 0.9097 - val_accuracy: 0.5568\n",
      "Epoch 4/100\n",
      "37/50 [=====================>........] - ETA: 0s - loss: 0.8645 - accuracy: 0.6284\n",
      "Epoch 4: val_accuracy improved from 0.55682 to 0.60038, saving model to model_check.keras\n",
      "50/50 [==============================] - 0s 2ms/step - loss: 0.8501 - accuracy: 0.6292 - val_loss: 0.8096 - val_accuracy: 0.6004\n",
      "Epoch 5/100\n",
      "43/50 [========================>.....] - ETA: 0s - loss: 0.7906 - accuracy: 0.6592\n",
      "Epoch 5: val_accuracy improved from 0.60038 to 0.64205, saving model to model_check.keras\n",
      "50/50 [==============================] - 0s 2ms/step - loss: 0.7750 - accuracy: 0.6652 - val_loss: 0.7453 - val_accuracy: 0.6420\n",
      "Epoch 6/100\n",
      "36/50 [====================>.........] - ETA: 0s - loss: 0.7089 - accuracy: 0.6936\n",
      "Epoch 6: val_accuracy improved from 0.64205 to 0.70265, saving model to model_check.keras\n",
      "50/50 [==============================] - 0s 2ms/step - loss: 0.7037 - accuracy: 0.6980 - val_loss: 0.6728 - val_accuracy: 0.7027\n",
      "Epoch 7/100\n",
      "38/50 [=====================>........] - ETA: 0s - loss: 0.6532 - accuracy: 0.7171\n",
      "Epoch 7: val_accuracy improved from 0.70265 to 0.74621, saving model to model_check.keras\n",
      "50/50 [==============================] - 0s 2ms/step - loss: 0.6566 - accuracy: 0.7195 - val_loss: 0.6202 - val_accuracy: 0.7462\n",
      "Epoch 8/100\n",
      "17/50 [=========>....................] - ETA: 0s - loss: 0.6105 - accuracy: 0.7371\n",
      "Epoch 8: val_accuracy improved from 0.74621 to 0.77273, saving model to model_check.keras\n",
      "50/50 [==============================] - 0s 3ms/step - loss: 0.6032 - accuracy: 0.7593 - val_loss: 0.5743 - val_accuracy: 0.7727\n",
      "Epoch 9/100\n",
      "43/50 [========================>.....] - ETA: 0s - loss: 0.5445 - accuracy: 0.7783\n",
      "Epoch 9: val_accuracy improved from 0.77273 to 0.84091, saving model to model_check.keras\n",
      "50/50 [==============================] - 0s 2ms/step - loss: 0.5509 - accuracy: 0.7694 - val_loss: 0.5207 - val_accuracy: 0.8409\n",
      "Epoch 10/100\n",
      "37/50 [=====================>........] - ETA: 0s - loss: 0.5192 - accuracy: 0.7998\n",
      "Epoch 10: val_accuracy improved from 0.84091 to 0.84848, saving model to model_check.keras\n",
      "50/50 [==============================] - 0s 2ms/step - loss: 0.5162 - accuracy: 0.8029 - val_loss: 0.4812 - val_accuracy: 0.8485\n",
      "Epoch 11/100\n",
      "41/50 [=======================>......] - ETA: 0s - loss: 0.4694 - accuracy: 0.8285\n",
      "Epoch 11: val_accuracy improved from 0.84848 to 0.87121, saving model to model_check.keras\n",
      "50/50 [==============================] - 0s 2ms/step - loss: 0.4666 - accuracy: 0.8288 - val_loss: 0.4379 - val_accuracy: 0.8712\n",
      "Epoch 12/100\n",
      "34/50 [===================>..........] - ETA: 0s - loss: 0.4441 - accuracy: 0.8364\n",
      "Epoch 12: val_accuracy improved from 0.87121 to 0.87879, saving model to model_check.keras\n",
      "50/50 [==============================] - 0s 2ms/step - loss: 0.4407 - accuracy: 0.8370 - val_loss: 0.4071 - val_accuracy: 0.8788\n",
      "Epoch 13/100\n",
      "35/50 [====================>.........] - ETA: 0s - loss: 0.3895 - accuracy: 0.8679\n",
      "Epoch 13: val_accuracy did not improve from 0.87879\n",
      "50/50 [==============================] - 0s 2ms/step - loss: 0.3931 - accuracy: 0.8623 - val_loss: 0.3969 - val_accuracy: 0.8561\n",
      "Epoch 14/100\n",
      "38/50 [=====================>........] - ETA: 0s - loss: 0.4009 - accuracy: 0.8355\n",
      "Epoch 14: val_accuracy improved from 0.87879 to 0.90530, saving model to model_check.keras\n",
      "50/50 [==============================] - 0s 2ms/step - loss: 0.3958 - accuracy: 0.8465 - val_loss: 0.3440 - val_accuracy: 0.9053\n",
      "Epoch 15/100\n",
      "36/50 [====================>.........] - ETA: 0s - loss: 0.3519 - accuracy: 0.8828\n",
      "Epoch 15: val_accuracy improved from 0.90530 to 0.90909, saving model to model_check.keras\n",
      "50/50 [==============================] - 0s 2ms/step - loss: 0.3559 - accuracy: 0.8774 - val_loss: 0.3182 - val_accuracy: 0.9091\n",
      "Epoch 16/100\n",
      "33/50 [==================>...........] - ETA: 0s - loss: 0.3303 - accuracy: 0.8797\n",
      "Epoch 16: val_accuracy did not improve from 0.90909\n",
      "50/50 [==============================] - 0s 2ms/step - loss: 0.3275 - accuracy: 0.8793 - val_loss: 0.2932 - val_accuracy: 0.9072\n",
      "Epoch 17/100\n",
      "34/50 [===================>..........] - ETA: 0s - loss: 0.2895 - accuracy: 0.8971\n",
      "Epoch 17: val_accuracy did not improve from 0.90909\n",
      "50/50 [==============================] - 0s 2ms/step - loss: 0.2951 - accuracy: 0.8926 - val_loss: 0.2794 - val_accuracy: 0.8996\n",
      "Epoch 18/100\n",
      "38/50 [=====================>........] - ETA: 0s - loss: 0.2731 - accuracy: 0.9087\n",
      "Epoch 18: val_accuracy improved from 0.90909 to 0.91477, saving model to model_check.keras\n",
      "50/50 [==============================] - 0s 2ms/step - loss: 0.2801 - accuracy: 0.9027 - val_loss: 0.2654 - val_accuracy: 0.9148\n",
      "Epoch 19/100\n",
      "35/50 [====================>.........] - ETA: 0s - loss: 0.2672 - accuracy: 0.9152\n",
      "Epoch 19: val_accuracy improved from 0.91477 to 0.91667, saving model to model_check.keras\n",
      "50/50 [==============================] - 0s 2ms/step - loss: 0.2670 - accuracy: 0.9109 - val_loss: 0.2507 - val_accuracy: 0.9167\n",
      "Epoch 20/100\n",
      "39/50 [======================>.......] - ETA: 0s - loss: 0.2487 - accuracy: 0.9119\n",
      "Epoch 20: val_accuracy did not improve from 0.91667\n",
      "50/50 [==============================] - 0s 2ms/step - loss: 0.2485 - accuracy: 0.9097 - val_loss: 0.2330 - val_accuracy: 0.9148\n",
      "Epoch 21/100\n",
      "41/50 [=======================>......] - ETA: 0s - loss: 0.2512 - accuracy: 0.9078\n",
      "Epoch 21: val_accuracy improved from 0.91667 to 0.92803, saving model to model_check.keras\n",
      "50/50 [==============================] - 0s 2ms/step - loss: 0.2471 - accuracy: 0.9122 - val_loss: 0.2268 - val_accuracy: 0.9280\n",
      "Epoch 22/100\n",
      "37/50 [=====================>........] - ETA: 0s - loss: 0.2397 - accuracy: 0.9113\n",
      "Epoch 22: val_accuracy did not improve from 0.92803\n",
      "50/50 [==============================] - 0s 2ms/step - loss: 0.2349 - accuracy: 0.9147 - val_loss: 0.2154 - val_accuracy: 0.9167\n",
      "Epoch 23/100\n",
      "38/50 [=====================>........] - ETA: 0s - loss: 0.2248 - accuracy: 0.9227\n",
      "Epoch 23: val_accuracy did not improve from 0.92803\n",
      "50/50 [==============================] - 0s 2ms/step - loss: 0.2187 - accuracy: 0.9274 - val_loss: 0.2045 - val_accuracy: 0.9261\n",
      "Epoch 24/100\n",
      "39/50 [======================>.......] - ETA: 0s - loss: 0.2201 - accuracy: 0.9247\n",
      "Epoch 24: val_accuracy did not improve from 0.92803\n",
      "50/50 [==============================] - 0s 2ms/step - loss: 0.2179 - accuracy: 0.9242 - val_loss: 0.1994 - val_accuracy: 0.9205\n",
      "Epoch 25/100\n",
      "35/50 [====================>.........] - ETA: 0s - loss: 0.2003 - accuracy: 0.9357\n",
      "Epoch 25: val_accuracy did not improve from 0.92803\n",
      "50/50 [==============================] - 0s 2ms/step - loss: 0.2012 - accuracy: 0.9299 - val_loss: 0.1937 - val_accuracy: 0.9280\n",
      "Epoch 26/100\n",
      "35/50 [====================>.........] - ETA: 0s - loss: 0.1845 - accuracy: 0.9411\n",
      "Epoch 26: val_accuracy improved from 0.92803 to 0.92992, saving model to model_check.keras\n",
      "50/50 [==============================] - 0s 3ms/step - loss: 0.1895 - accuracy: 0.9356 - val_loss: 0.1826 - val_accuracy: 0.9299\n",
      "Epoch 27/100\n",
      "44/50 [=========================>....] - ETA: 0s - loss: 0.1813 - accuracy: 0.9375\n",
      "Epoch 27: val_accuracy improved from 0.92992 to 0.93371, saving model to model_check.keras\n",
      "50/50 [==============================] - 0s 2ms/step - loss: 0.1851 - accuracy: 0.9330 - val_loss: 0.1726 - val_accuracy: 0.9337\n",
      "Epoch 28/100\n",
      "37/50 [=====================>........] - ETA: 0s - loss: 0.1621 - accuracy: 0.9485\n",
      "Epoch 28: val_accuracy improved from 0.93371 to 0.93939, saving model to model_check.keras\n",
      "50/50 [==============================] - 0s 2ms/step - loss: 0.1687 - accuracy: 0.9469 - val_loss: 0.1701 - val_accuracy: 0.9394\n",
      "Epoch 29/100\n",
      "34/50 [===================>..........] - ETA: 0s - loss: 0.1610 - accuracy: 0.9458\n",
      "Epoch 29: val_accuracy improved from 0.93939 to 0.94129, saving model to model_check.keras\n",
      "50/50 [==============================] - 0s 2ms/step - loss: 0.1554 - accuracy: 0.9501 - val_loss: 0.1684 - val_accuracy: 0.9413\n",
      "Epoch 30/100\n",
      "37/50 [=====================>........] - ETA: 0s - loss: 0.1568 - accuracy: 0.9443\n",
      "Epoch 30: val_accuracy did not improve from 0.94129\n",
      "50/50 [==============================] - 0s 2ms/step - loss: 0.1599 - accuracy: 0.9450 - val_loss: 0.1582 - val_accuracy: 0.9394\n",
      "Epoch 31/100\n",
      "44/50 [=========================>....] - ETA: 0s - loss: 0.1613 - accuracy: 0.9453\n",
      "Epoch 31: val_accuracy improved from 0.94129 to 0.94508, saving model to model_check.keras\n",
      "50/50 [==============================] - 0s 2ms/step - loss: 0.1594 - accuracy: 0.9457 - val_loss: 0.1594 - val_accuracy: 0.9451\n",
      "Epoch 32/100\n",
      "38/50 [=====================>........] - ETA: 0s - loss: 0.1388 - accuracy: 0.9539\n",
      "Epoch 32: val_accuracy did not improve from 0.94508\n",
      "50/50 [==============================] - 0s 2ms/step - loss: 0.1433 - accuracy: 0.9514 - val_loss: 0.1512 - val_accuracy: 0.9451\n",
      "Epoch 33/100\n",
      "39/50 [======================>.......] - ETA: 0s - loss: 0.1350 - accuracy: 0.9519\n",
      "Epoch 33: val_accuracy improved from 0.94508 to 0.94886, saving model to model_check.keras\n",
      "50/50 [==============================] - 0s 2ms/step - loss: 0.1344 - accuracy: 0.9539 - val_loss: 0.1472 - val_accuracy: 0.9489\n",
      "Epoch 34/100\n",
      "38/50 [=====================>........] - ETA: 0s - loss: 0.1347 - accuracy: 0.9605\n",
      "Epoch 34: val_accuracy did not improve from 0.94886\n",
      "50/50 [==============================] - 0s 2ms/step - loss: 0.1351 - accuracy: 0.9621 - val_loss: 0.1423 - val_accuracy: 0.9489\n",
      "Epoch 35/100\n",
      "37/50 [=====================>........] - ETA: 0s - loss: 0.1227 - accuracy: 0.9595\n",
      "Epoch 35: val_accuracy did not improve from 0.94886\n",
      "50/50 [==============================] - 0s 2ms/step - loss: 0.1228 - accuracy: 0.9589 - val_loss: 0.1378 - val_accuracy: 0.9451\n",
      "Epoch 36/100\n",
      "36/50 [====================>.........] - ETA: 0s - loss: 0.1250 - accuracy: 0.9653\n",
      "Epoch 36: val_accuracy improved from 0.94886 to 0.95455, saving model to model_check.keras\n",
      "50/50 [==============================] - 0s 2ms/step - loss: 0.1266 - accuracy: 0.9596 - val_loss: 0.1369 - val_accuracy: 0.9545\n",
      "Epoch 37/100\n",
      "40/50 [=======================>......] - ETA: 0s - loss: 0.1267 - accuracy: 0.9516\n",
      "Epoch 37: val_accuracy did not improve from 0.95455\n",
      "50/50 [==============================] - 0s 2ms/step - loss: 0.1266 - accuracy: 0.9533 - val_loss: 0.1424 - val_accuracy: 0.9545\n",
      "Epoch 38/100\n",
      "34/50 [===================>..........] - ETA: 0s - loss: 0.1158 - accuracy: 0.9605\n",
      "Epoch 38: val_accuracy did not improve from 0.95455\n",
      "50/50 [==============================] - 0s 2ms/step - loss: 0.1139 - accuracy: 0.9596 - val_loss: 0.1307 - val_accuracy: 0.9527\n",
      "Epoch 39/100\n",
      "36/50 [====================>.........] - ETA: 0s - loss: 0.1073 - accuracy: 0.9644\n",
      "Epoch 39: val_accuracy did not improve from 0.95455\n",
      "50/50 [==============================] - 0s 2ms/step - loss: 0.1129 - accuracy: 0.9608 - val_loss: 0.1251 - val_accuracy: 0.9527\n",
      "Epoch 40/100\n",
      "47/50 [===========================>..] - ETA: 0s - loss: 0.1097 - accuracy: 0.9681\n",
      "Epoch 40: val_accuracy improved from 0.95455 to 0.95644, saving model to model_check.keras\n",
      "50/50 [==============================] - 0s 2ms/step - loss: 0.1106 - accuracy: 0.9672 - val_loss: 0.1230 - val_accuracy: 0.9564\n",
      "Epoch 41/100\n",
      "36/50 [====================>.........] - ETA: 0s - loss: 0.1026 - accuracy: 0.9670\n",
      "Epoch 41: val_accuracy did not improve from 0.95644\n",
      "50/50 [==============================] - 0s 2ms/step - loss: 0.1004 - accuracy: 0.9690 - val_loss: 0.1385 - val_accuracy: 0.9527\n",
      "Epoch 42/100\n",
      "41/50 [=======================>......] - ETA: 0s - loss: 0.1066 - accuracy: 0.9657\n",
      "Epoch 42: val_accuracy did not improve from 0.95644\n",
      "50/50 [==============================] - 0s 2ms/step - loss: 0.1083 - accuracy: 0.9634 - val_loss: 0.1332 - val_accuracy: 0.9564\n",
      "Epoch 43/100\n",
      "39/50 [======================>.......] - ETA: 0s - loss: 0.0983 - accuracy: 0.9647\n",
      "Epoch 43: val_accuracy did not improve from 0.95644\n",
      "50/50 [==============================] - 0s 2ms/step - loss: 0.1021 - accuracy: 0.9615 - val_loss: 0.1208 - val_accuracy: 0.9527\n",
      "Epoch 44/100\n",
      "41/50 [=======================>......] - ETA: 0s - loss: 0.1030 - accuracy: 0.9619\n",
      "Epoch 44: val_accuracy did not improve from 0.95644\n",
      "50/50 [==============================] - 0s 2ms/step - loss: 0.0969 - accuracy: 0.9672 - val_loss: 0.1327 - val_accuracy: 0.9470\n",
      "Epoch 45/100\n",
      "40/50 [=======================>......] - ETA: 0s - loss: 0.1024 - accuracy: 0.9648\n",
      "Epoch 45: val_accuracy improved from 0.95644 to 0.96023, saving model to model_check.keras\n",
      "50/50 [==============================] - 0s 2ms/step - loss: 0.1024 - accuracy: 0.9634 - val_loss: 0.1114 - val_accuracy: 0.9602\n",
      "Epoch 46/100\n",
      "42/50 [========================>.....] - ETA: 0s - loss: 0.0887 - accuracy: 0.9710\n",
      "Epoch 46: val_accuracy did not improve from 0.96023\n",
      "50/50 [==============================] - 0s 2ms/step - loss: 0.0897 - accuracy: 0.9697 - val_loss: 0.1107 - val_accuracy: 0.9583\n",
      "Epoch 47/100\n",
      "39/50 [======================>.......] - ETA: 0s - loss: 0.0880 - accuracy: 0.9696\n",
      "Epoch 47: val_accuracy did not improve from 0.96023\n",
      "50/50 [==============================] - 0s 2ms/step - loss: 0.0838 - accuracy: 0.9722 - val_loss: 0.1257 - val_accuracy: 0.9527\n",
      "Epoch 48/100\n",
      "38/50 [=====================>........] - ETA: 0s - loss: 0.0978 - accuracy: 0.9581\n",
      "Epoch 48: val_accuracy did not improve from 0.96023\n",
      "50/50 [==============================] - 0s 2ms/step - loss: 0.0955 - accuracy: 0.9608 - val_loss: 0.1262 - val_accuracy: 0.9545\n",
      "Epoch 49/100\n",
      "41/50 [=======================>......] - ETA: 0s - loss: 0.0846 - accuracy: 0.9665\n",
      "Epoch 49: val_accuracy did not improve from 0.96023\n",
      "50/50 [==============================] - 0s 2ms/step - loss: 0.0879 - accuracy: 0.9640 - val_loss: 0.1054 - val_accuracy: 0.9583\n",
      "Epoch 50/100\n",
      "37/50 [=====================>........] - ETA: 0s - loss: 0.0736 - accuracy: 0.9806\n",
      "Epoch 50: val_accuracy did not improve from 0.96023\n",
      "50/50 [==============================] - 0s 2ms/step - loss: 0.0764 - accuracy: 0.9779 - val_loss: 0.1195 - val_accuracy: 0.9527\n",
      "Epoch 51/100\n",
      "39/50 [======================>.......] - ETA: 0s - loss: 0.0855 - accuracy: 0.9728\n",
      "Epoch 51: val_accuracy did not improve from 0.96023\n",
      "50/50 [==============================] - 0s 2ms/step - loss: 0.0873 - accuracy: 0.9703 - val_loss: 0.1154 - val_accuracy: 0.9583\n",
      "Epoch 52/100\n",
      "37/50 [=====================>........] - ETA: 0s - loss: 0.0658 - accuracy: 0.9789\n",
      "Epoch 52: val_accuracy did not improve from 0.96023\n",
      "50/50 [==============================] - 0s 2ms/step - loss: 0.0653 - accuracy: 0.9785 - val_loss: 0.1209 - val_accuracy: 0.9527\n",
      "Epoch 53/100\n",
      "35/50 [====================>.........] - ETA: 0s - loss: 0.0783 - accuracy: 0.9741\n",
      "Epoch 53: val_accuracy did not improve from 0.96023\n",
      "50/50 [==============================] - 0s 2ms/step - loss: 0.0738 - accuracy: 0.9760 - val_loss: 0.1085 - val_accuracy: 0.9583\n",
      "Epoch 54/100\n",
      "47/50 [===========================>..] - ETA: 0s - loss: 0.0698 - accuracy: 0.9774\n",
      "Epoch 54: val_accuracy did not improve from 0.96023\n",
      "50/50 [==============================] - 0s 2ms/step - loss: 0.0719 - accuracy: 0.9779 - val_loss: 0.1125 - val_accuracy: 0.9583\n",
      "Epoch 55/100\n",
      "39/50 [======================>.......] - ETA: 0s - loss: 0.0724 - accuracy: 0.9800\n",
      "Epoch 55: val_accuracy did not improve from 0.96023\n",
      "50/50 [==============================] - 0s 2ms/step - loss: 0.0687 - accuracy: 0.9810 - val_loss: 0.1129 - val_accuracy: 0.9564\n",
      "Epoch 55: early stopping\n"
     ]
    },
    {
     "data": {
      "text/plain": [
       "<keras.callbacks.History at 0x7c2eda3b76a0>"
      ]
     },
     "execution_count": 9,
     "metadata": {},
     "output_type": "execute_result"
    }
   ],
   "source": [
    "from keras.models import Sequential\n",
    "from keras.layers import Dense, Dropout\n",
    "from keras.callbacks import ModelCheckpoint, EarlyStopping\n",
    "\n",
    "# menentukan nama dan path file untuk penyimpanan model\n",
    "filepath = \"model_check.keras\"\n",
    "\n",
    "# mengatur kriteria checkpoint\n",
    "checkpoint = ModelCheckpoint(\n",
    "    filepath=filepath,\n",
    "    monitor=\"val_accuracy\",\n",
    "    save_best_only=True,\n",
    "    mode=\"max\",\n",
    "    verbose=1,\n",
    ")\n",
    "\n",
    "# mengatur kondisi untuk early stopping\n",
    "early_stopping = EarlyStopping(\n",
    "    monitor=\"val_accuracy\",\n",
    "    patience=10,\n",
    "    verbose=1,\n",
    ")\n",
    "\n",
    "# Membangun model neural network\n",
    "model_3 = Sequential()\n",
    "model_3.add(Dense(units=64, input_dim=X_train.shape[1], activation=\"relu\"))\n",
    "model_3.add(Dropout(0.1))\n",
    "model_3.add(Dense(units=32, activation=\"relu\"))\n",
    "model_3.add(Dropout(0.1))\n",
    "model_3.add(Dense(units=4, activation=\"softmax\"))\n",
    "\n",
    "# Mengompilasi model\n",
    "model_3.compile(\n",
    "    optimizer=\"adam\",\n",
    "    loss=\"categorical_crossentropy\",\n",
    "    metrics=[\"accuracy\"],\n",
    ")\n",
    "\n",
    "# Melatih model\n",
    "model_3.fit(\n",
    "    X_train,\n",
    "    y_train,\n",
    "    epochs=100,\n",
    "    # validation_split=0.2,\n",
    "    validation_data = [X_test, y_test],\n",
    "    callbacks=[checkpoint, early_stopping],  # mengatur checkpoint dan early stopping\n",
    ")"
   ]
  },
  {
   "cell_type": "markdown",
   "id": "1ea0c694",
   "metadata": {
    "papermill": {
     "duration": 0.02529,
     "end_time": "2023-09-30T17:51:13.755316",
     "exception": false,
     "start_time": "2023-09-30T17:51:13.730026",
     "status": "completed"
    },
    "tags": []
   },
   "source": [
    "## 1.i Memuat Model Hasil Checkpoint + Prediksi"
   ]
  },
  {
   "cell_type": "code",
   "execution_count": 10,
   "id": "65234fb4",
   "metadata": {
    "execution": {
     "iopub.execute_input": "2023-09-30T17:51:13.811434Z",
     "iopub.status.busy": "2023-09-30T17:51:13.811131Z",
     "iopub.status.idle": "2023-09-30T17:51:13.890311Z",
     "shell.execute_reply": "2023-09-30T17:51:13.889443Z"
    },
    "papermill": {
     "duration": 0.108448,
     "end_time": "2023-09-30T17:51:13.891930",
     "exception": false,
     "start_time": "2023-09-30T17:51:13.783482",
     "status": "completed"
    },
    "tags": []
   },
   "outputs": [
    {
     "name": "stdout",
     "output_type": "stream",
     "text": [
      "Model: \"sequential_2\"\n",
      "_________________________________________________________________\n",
      " Layer (type)                Output Shape              Param #   \n",
      "=================================================================\n",
      " dense_5 (Dense)             (None, 64)                1536      \n",
      "                                                                 \n",
      " dropout_2 (Dropout)         (None, 64)                0         \n",
      "                                                                 \n",
      " dense_6 (Dense)             (None, 32)                2080      \n",
      "                                                                 \n",
      " dropout_3 (Dropout)         (None, 32)                0         \n",
      "                                                                 \n",
      " dense_7 (Dense)             (None, 4)                 132       \n",
      "                                                                 \n",
      "=================================================================\n",
      "Total params: 3,748\n",
      "Trainable params: 3,748\n",
      "Non-trainable params: 0\n",
      "_________________________________________________________________\n"
     ]
    }
   ],
   "source": [
    "my_model_check = load_model(\"model_check.keras\")\n",
    "\n",
    "my_model_check.summary()"
   ]
  },
  {
   "cell_type": "code",
   "execution_count": 11,
   "id": "b95def79",
   "metadata": {
    "execution": {
     "iopub.execute_input": "2023-09-30T17:51:13.948446Z",
     "iopub.status.busy": "2023-09-30T17:51:13.948166Z",
     "iopub.status.idle": "2023-09-30T17:51:14.405251Z",
     "shell.execute_reply": "2023-09-30T17:51:14.404644Z"
    },
    "papermill": {
     "duration": 0.486836,
     "end_time": "2023-09-30T17:51:14.406894",
     "exception": false,
     "start_time": "2023-09-30T17:51:13.920058",
     "status": "completed"
    },
    "tags": []
   },
   "outputs": [
    {
     "name": "stdout",
     "output_type": "stream",
     "text": [
      "17/17 [==============================] - 0s 1ms/step - loss: 0.1114 - accuracy: 0.9602\n",
      "17/17 [==============================] - 0s 849us/step\n",
      "\n",
      " [0 2 2 3 2 2 2 3 2 1 2 2 1 2 3 3 2 3 2 1 3 3 2 3 1 2 3 2 3 2 3 3 2 0 2 3 1\n",
      " 3 2 0 2 2 2 3 3 2 3 2 2 3 0 3 2 1 2 0 0 3 3 1 2 2 2 2 3 1 0 2 0 3 3 3 0 2\n",
      " 2 2 2 3 3 2 3 1 3 2 2 2 2 2 2 2 2 2 2 3 2 1 2 2 3 2 2 2 0 3 2 2 0 2 1 3 2\n",
      " 3 2 3 2 3 2 2 1 2 2 2 2 3 3 2 1 1 0 3 2 1 0 0 2 2 2 2 2 2 2 3 3 2 2 1 0 2\n",
      " 2 2 3 3 2 3 3 3 3 3 2 0 2 2 2 3 2 1 0 2 1 3 0 2 2 3 1 2 3 0 2 3 2 3 2 2 2\n",
      " 3 0 1 3 3 2 0 2 0 2 2 2 2 3 2 1 3 1 2 3 0 3 3 2 2 2 2 2 0 2 2 0 2 3 2 2 2\n",
      " 1 1 3 2 2 3 2 0 2 2 0 3 0 2 2 1 0 2 2 3 1 2 3 0 0 2 3 3 3 2 2 2 0 2 0 0 1\n",
      " 2 0 2 1 3 2 2 0 0 0 2 2 2 2 2 1 3 0 3 2 1 2 3 2 3 2 0 2 1 3 0 3 3 1 1 3 0\n",
      " 3 2 3 2 0 0 1 3 0 2 1 2 2 2 3 3 2 0 1 2 3 3 0 3 3 0 0 0 2 2 2 2 3 2 3 1 3\n",
      " 0 1 2 2 2 2 3 0 3 2 2 1 2 1 0 0 0 3 2 2 2 2 2 2 2 0 2 0 2 1 2 2 0 2 2 2 2\n",
      " 2 2 2 2 3 2 2 3 2 2 0 3 3 1 1 1 0 0 3 2 2 1 1 2 2 2 0 2 1 0 3 2 0 1 0 3 2\n",
      " 3 3 2 3 1 2 3 0 2 2 3 0 2 3 2 1 0 3 0 3 1 2 3 3 3 2 3 2 3 3 0 0 1 0 3 2 2\n",
      " 3 1 1 2 3 3 3 2 3 1 2 3 3 3 2 2 3 2 2 3 3 2 2 2 1 3 2 3 0 2 0 1 2 0 2 0 2\n",
      " 2 3 1 3 0 0 2 2 3 2 2 2 0 2 2 3 1 3 3 3 3 2 2 2 1 0 2 3 3 0 2 2 3 2 2 2 2\n",
      " 3 2 3 2 3 2 0 2 2 0]\n",
      "\n",
      "              precision    recall  f1-score   support\n",
      "\n",
      "           0       0.95      1.00      0.98        79\n",
      "           1       0.93      0.79      0.85        71\n",
      "           2       1.00      1.00      1.00       241\n",
      "           3       0.92      0.96      0.94       137\n",
      "\n",
      "    accuracy                           0.96       528\n",
      "   macro avg       0.95      0.94      0.94       528\n",
      "weighted avg       0.96      0.96      0.96       528\n",
      "\n",
      "\n"
     ]
    },
    {
     "data": {
      "image/png": "[encoded data removed]",
      "text/plain": [
       "<Figure size 640x480 with 2 Axes>"
      ]
     },
     "metadata": {},
     "output_type": "display_data"
    }
   ],
   "source": [
    "# Evaluasi model pada data test\n",
    "loss, accuracy = my_model_check.evaluate(X_test, y_test)\n",
    "\n",
    "# melihat prediksi pada data test\n",
    "y_pred = my_model_check.predict(X_test)\n",
    "\n",
    "# Mengkonversi prediksi menjadi label kelas\n",
    "y_pred_class = np.argmax(y_pred, axis=1)\n",
    "\n",
    "# Menampilkan hasil prediksi\n",
    "print(\"\\n\", y_pred_class)\n",
    "\n",
    "# Mengonversi y_test menjadi label kelas\n",
    "y_test_class = np.argmax(y_test, axis=1)\n",
    "\n",
    "print()\n",
    "\n",
    "# menampilkan metrik klasifikasi\n",
    "print(classification_report(y_test_class, y_pred_class))\n",
    "\n",
    "print()\n",
    "\n",
    "# memvisualisasikan confusion matrix\n",
    "disp = ConfusionMatrixDisplay(\n",
    "    confusion_matrix(y_pred_class, y_test_class), display_labels=y_test.columns\n",
    ")\n",
    "\n",
    "disp.plot()\n",
    "plt.show()"
   ]
  },
  {
   "cell_type": "markdown",
   "id": "2c78e5a1",
   "metadata": {
    "papermill": {
     "duration": 0.029134,
     "end_time": "2023-09-30T17:51:14.465435",
     "exception": false,
     "start_time": "2023-09-30T17:51:14.436301",
     "status": "completed"
    },
    "tags": []
   },
   "source": [
    "## KLASIFIKASI BINER  \n",
    "  \n",
    "Note: Agar lebih praktis, pada bagian ini akan kita gunakan dataset yang sama, namun targetnya adalah (Overweight vs Tidak Overweight)"
   ]
  },
  {
   "cell_type": "markdown",
   "id": "2125cd4e",
   "metadata": {
    "papermill": {
     "duration": 0.027247,
     "end_time": "2023-09-30T17:51:14.520745",
     "exception": false,
     "start_time": "2023-09-30T17:51:14.493498",
     "status": "completed"
    },
    "tags": []
   },
   "source": [
    "## 2.a Penyiapan Data"
   ]
  },
  {
   "cell_type": "code",
   "execution_count": 12,
   "id": "b526ac0c",
   "metadata": {
    "execution": {
     "iopub.execute_input": "2023-09-30T17:51:14.578669Z",
     "iopub.status.busy": "2023-09-30T17:51:14.577680Z",
     "iopub.status.idle": "2023-09-30T17:51:14.586728Z",
     "shell.execute_reply": "2023-09-30T17:51:14.586197Z"
    },
    "papermill": {
     "duration": 0.039243,
     "end_time": "2023-09-30T17:51:14.588205",
     "exception": false,
     "start_time": "2023-09-30T17:51:14.548962",
     "status": "completed"
    },
    "tags": []
   },
   "outputs": [
    {
     "name": "stdout",
     "output_type": "stream",
     "text": [
      "<class 'pandas.core.frame.DataFrame'>\n",
      "RangeIndex: 2111 entries, 0 to 2110\n",
      "Data columns (total 17 columns):\n",
      " #   Column                          Non-Null Count  Dtype  \n",
      "---  ------                          --------------  -----  \n",
      " 0   Gender                          2111 non-null   object \n",
      " 1   Age                             2111 non-null   float64\n",
      " 2   Height                          2111 non-null   float64\n",
      " 3   Weight                          2111 non-null   float64\n",
      " 4   family_history_with_overweight  2111 non-null   object \n",
      " 5   FAVC                            2111 non-null   object \n",
      " 6   FCVC                            2111 non-null   float64\n",
      " 7   NCP                             2111 non-null   float64\n",
      " 8   CAEC                            2111 non-null   object \n",
      " 9   SMOKE                           2111 non-null   object \n",
      " 10  CH2O                            2111 non-null   float64\n",
      " 11  SCC                             2111 non-null   object \n",
      " 12  FAF                             2111 non-null   float64\n",
      " 13  TUE                             2111 non-null   float64\n",
      " 14  CALC                            2111 non-null   object \n",
      " 15  MTRANS                          2111 non-null   object \n",
      " 16  NObeyesdad                      2111 non-null   object \n",
      "dtypes: float64(8), object(9)\n",
      "memory usage: 280.5+ KB\n"
     ]
    }
   ],
   "source": [
    "# menduplikasi data sebelumnya\n",
    "data_biner = data.copy()\n",
    "\n",
    "data_biner.info()"
   ]
  },
  {
   "cell_type": "code",
   "execution_count": 13,
   "id": "d30527aa",
   "metadata": {
    "execution": {
     "iopub.execute_input": "2023-09-30T17:51:14.649329Z",
     "iopub.status.busy": "2023-09-30T17:51:14.648057Z",
     "iopub.status.idle": "2023-09-30T17:51:14.658627Z",
     "shell.execute_reply": "2023-09-30T17:51:14.657746Z"
    },
    "papermill": {
     "duration": 0.042553,
     "end_time": "2023-09-30T17:51:14.660383",
     "exception": false,
     "start_time": "2023-09-30T17:51:14.617830",
     "status": "completed"
    },
    "tags": []
   },
   "outputs": [
    {
     "data": {
      "text/plain": [
       "array([False,  True])"
      ]
     },
     "execution_count": 13,
     "metadata": {},
     "output_type": "execute_result"
    }
   ],
   "source": [
    "def to_binary(level):\n",
    "    return (level in [\"Overweight\", \"Obesity\"])\n",
    "\n",
    "# merubah label menjadi biner (1: overweight, 0: Tidak Overweight)\n",
    "data_biner[\"NObeyesdad\"] = data_biner[\"NObeyesdad\"].apply(to_binary)\n",
    "\n",
    "data_biner[\"NObeyesdad\"].unique()"
   ]
  },
  {
   "cell_type": "code",
   "execution_count": 14,
   "id": "8f40ade3",
   "metadata": {
    "execution": {
     "iopub.execute_input": "2023-09-30T17:51:14.718168Z",
     "iopub.status.busy": "2023-09-30T17:51:14.717907Z",
     "iopub.status.idle": "2023-09-30T17:51:14.738228Z",
     "shell.execute_reply": "2023-09-30T17:51:14.737463Z"
    },
    "papermill": {
     "duration": 0.051184,
     "end_time": "2023-09-30T17:51:14.740185",
     "exception": false,
     "start_time": "2023-09-30T17:51:14.689001",
     "status": "completed"
    },
    "tags": []
   },
   "outputs": [],
   "source": [
    "from sklearn.model_selection import train_test_split\n",
    "from sklearn.preprocessing import MinMaxScaler\n",
    "\n",
    "\n",
    "# menentukan kolom fitur dan target\n",
    "X = data_biner.drop([\"NObeyesdad\"], axis=1)\n",
    "y = data_biner[\"NObeyesdad\"]\n",
    "\n",
    "# list kolom kategorik\n",
    "cat_features = [\n",
    "    \"Gender\",\n",
    "    \"family_history_with_overweight\",\n",
    "    \"FAVC\",\n",
    "    \"CAEC\",\n",
    "    \"SMOKE\",\n",
    "    \"SCC\",\n",
    "    \"CALC\",\n",
    "    \"MTRANS\",\n",
    "]\n",
    "\n",
    "# list kolom numerik\n",
    "num_features = X.columns[~X.columns.isin(cat_features)]\n",
    "\n",
    "# merubah fitur kategorik menjadi One Hot Encoding\n",
    "# dapat pula menggunakan to_categorical dari tensorflow.keras\n",
    "# atau OneHotEncoder dari sklearn.preprocessing\n",
    "X_cat = pd.get_dummies(X[cat_features], drop_first=True)\n",
    "\n",
    "# mengabungkan kembali fitur numerik dan OHE\n",
    "X_final = pd.concat([X[num_features], X_cat], axis=1)\n",
    "\n",
    "# membagi data train dan test\n",
    "X_train, X_test, y_train, y_test = train_test_split(\n",
    "    X_final, y, test_size=0.25, random_state=123\n",
    ")\n",
    "\n",
    "# merubah skala fitur (menggunakan standardisasi)\n",
    "scaler = MinMaxScaler()\n",
    "scaler.fit(X_train)\n",
    "X_train = scaler.transform(X_train)\n",
    "X_test = scaler.transform(X_test)\n",
    "\n",
    "# y sudah dalam bentuk 0 1\n",
    "# y_train = pd.get_dummies(y_train)\n",
    "# y_test = pd.get_dummies(y_test)"
   ]
  },
  {
   "cell_type": "markdown",
   "id": "ff517555",
   "metadata": {
    "papermill": {
     "duration": 0.027492,
     "end_time": "2023-09-30T17:51:14.796269",
     "exception": false,
     "start_time": "2023-09-30T17:51:14.768777",
     "status": "completed"
    },
    "tags": []
   },
   "source": [
    "## 2.b Model (2 hidden layer + dropout + callback)"
   ]
  },
  {
   "cell_type": "code",
   "execution_count": 15,
   "id": "6bdbde76",
   "metadata": {
    "execution": {
     "iopub.execute_input": "2023-09-30T17:51:14.852904Z",
     "iopub.status.busy": "2023-09-30T17:51:14.852560Z",
     "iopub.status.idle": "2023-09-30T17:51:19.897031Z",
     "shell.execute_reply": "2023-09-30T17:51:19.896157Z"
    },
    "papermill": {
     "duration": 5.074822,
     "end_time": "2023-09-30T17:51:19.898358",
     "exception": false,
     "start_time": "2023-09-30T17:51:14.823536",
     "status": "completed"
    },
    "tags": []
   },
   "outputs": [
    {
     "name": "stdout",
     "output_type": "stream",
     "text": [
      "Epoch 1/100\n",
      "50/50 [==============================] - 1s 5ms/step - loss: 0.4826 - accuracy: 0.7562 - val_loss: 0.4278 - val_accuracy: 0.7633\n",
      "Epoch 2/100\n",
      "50/50 [==============================] - 0s 2ms/step - loss: 0.3668 - accuracy: 0.8383 - val_loss: 0.3136 - val_accuracy: 0.8561\n",
      "Epoch 3/100\n",
      "50/50 [==============================] - 0s 2ms/step - loss: 0.2959 - accuracy: 0.8800 - val_loss: 0.2564 - val_accuracy: 0.8883\n",
      "Epoch 4/100\n",
      "50/50 [==============================] - 0s 2ms/step - loss: 0.2542 - accuracy: 0.8951 - val_loss: 0.2206 - val_accuracy: 0.9129\n",
      "Epoch 5/100\n",
      "50/50 [==============================] - 0s 2ms/step - loss: 0.2146 - accuracy: 0.9217 - val_loss: 0.2018 - val_accuracy: 0.9242\n",
      "Epoch 6/100\n",
      "50/50 [==============================] - 0s 2ms/step - loss: 0.1981 - accuracy: 0.9255 - val_loss: 0.1898 - val_accuracy: 0.9223\n",
      "Epoch 7/100\n",
      "50/50 [==============================] - 0s 2ms/step - loss: 0.1876 - accuracy: 0.9236 - val_loss: 0.1920 - val_accuracy: 0.9167\n",
      "Epoch 8/100\n",
      "50/50 [==============================] - 0s 2ms/step - loss: 0.1749 - accuracy: 0.9311 - val_loss: 0.1556 - val_accuracy: 0.9432\n",
      "Epoch 9/100\n",
      "50/50 [==============================] - 0s 3ms/step - loss: 0.1514 - accuracy: 0.9463 - val_loss: 0.1427 - val_accuracy: 0.9451\n",
      "Epoch 10/100\n",
      "50/50 [==============================] - 0s 2ms/step - loss: 0.1379 - accuracy: 0.9501 - val_loss: 0.1288 - val_accuracy: 0.9489\n",
      "Epoch 11/100\n",
      "50/50 [==============================] - 0s 3ms/step - loss: 0.1254 - accuracy: 0.9526 - val_loss: 0.1227 - val_accuracy: 0.9470\n",
      "Epoch 12/100\n",
      "50/50 [==============================] - 0s 2ms/step - loss: 0.1129 - accuracy: 0.9608 - val_loss: 0.1238 - val_accuracy: 0.9508\n",
      "Epoch 13/100\n",
      "50/50 [==============================] - 0s 2ms/step - loss: 0.1110 - accuracy: 0.9646 - val_loss: 0.1322 - val_accuracy: 0.9564\n",
      "Epoch 14/100\n",
      "50/50 [==============================] - 0s 2ms/step - loss: 0.0959 - accuracy: 0.9659 - val_loss: 0.1008 - val_accuracy: 0.9621\n",
      "Epoch 15/100\n",
      "50/50 [==============================] - 0s 2ms/step - loss: 0.0864 - accuracy: 0.9697 - val_loss: 0.0973 - val_accuracy: 0.9602\n",
      "Epoch 16/100\n",
      "50/50 [==============================] - 0s 3ms/step - loss: 0.0840 - accuracy: 0.9672 - val_loss: 0.0965 - val_accuracy: 0.9640\n",
      "Epoch 17/100\n",
      "50/50 [==============================] - 0s 3ms/step - loss: 0.0819 - accuracy: 0.9665 - val_loss: 0.1015 - val_accuracy: 0.9659\n",
      "Epoch 18/100\n",
      "50/50 [==============================] - 0s 2ms/step - loss: 0.0769 - accuracy: 0.9697 - val_loss: 0.0999 - val_accuracy: 0.9659\n",
      "Epoch 19/100\n",
      "50/50 [==============================] - 0s 2ms/step - loss: 0.0770 - accuracy: 0.9703 - val_loss: 0.0917 - val_accuracy: 0.9621\n",
      "Epoch 20/100\n",
      "50/50 [==============================] - 0s 2ms/step - loss: 0.0654 - accuracy: 0.9760 - val_loss: 0.0843 - val_accuracy: 0.9659\n",
      "Epoch 21/100\n",
      "50/50 [==============================] - 0s 2ms/step - loss: 0.0615 - accuracy: 0.9760 - val_loss: 0.0955 - val_accuracy: 0.9621\n",
      "Epoch 22/100\n",
      "50/50 [==============================] - 0s 2ms/step - loss: 0.0583 - accuracy: 0.9792 - val_loss: 0.0888 - val_accuracy: 0.9678\n",
      "Epoch 23/100\n",
      "50/50 [==============================] - 0s 2ms/step - loss: 0.0622 - accuracy: 0.9766 - val_loss: 0.0810 - val_accuracy: 0.9678\n",
      "Epoch 24/100\n",
      "50/50 [==============================] - 0s 2ms/step - loss: 0.0533 - accuracy: 0.9829 - val_loss: 0.0879 - val_accuracy: 0.9640\n",
      "Epoch 25/100\n",
      "50/50 [==============================] - 0s 2ms/step - loss: 0.0575 - accuracy: 0.9810 - val_loss: 0.0881 - val_accuracy: 0.9640\n",
      "Epoch 26/100\n",
      "50/50 [==============================] - 0s 2ms/step - loss: 0.0501 - accuracy: 0.9810 - val_loss: 0.0905 - val_accuracy: 0.9697\n",
      "Epoch 27/100\n",
      "50/50 [==============================] - 0s 2ms/step - loss: 0.0438 - accuracy: 0.9880 - val_loss: 0.0796 - val_accuracy: 0.9678\n",
      "Epoch 28/100\n",
      "50/50 [==============================] - 0s 2ms/step - loss: 0.0419 - accuracy: 0.9836 - val_loss: 0.0836 - val_accuracy: 0.9621\n",
      "Epoch 29/100\n",
      "50/50 [==============================] - 0s 2ms/step - loss: 0.0367 - accuracy: 0.9912 - val_loss: 0.0964 - val_accuracy: 0.9640\n",
      "Epoch 30/100\n",
      "50/50 [==============================] - 0s 2ms/step - loss: 0.0391 - accuracy: 0.9880 - val_loss: 0.0862 - val_accuracy: 0.9697\n",
      "Epoch 31/100\n",
      "50/50 [==============================] - 0s 2ms/step - loss: 0.0374 - accuracy: 0.9855 - val_loss: 0.0865 - val_accuracy: 0.9697\n",
      "Epoch 32/100\n",
      "50/50 [==============================] - 0s 2ms/step - loss: 0.0421 - accuracy: 0.9842 - val_loss: 0.0851 - val_accuracy: 0.9697\n",
      "Epoch 33/100\n",
      "50/50 [==============================] - 0s 2ms/step - loss: 0.0379 - accuracy: 0.9893 - val_loss: 0.0832 - val_accuracy: 0.9697\n",
      "Epoch 34/100\n",
      "50/50 [==============================] - 0s 2ms/step - loss: 0.0372 - accuracy: 0.9893 - val_loss: 0.0936 - val_accuracy: 0.9678\n",
      "Epoch 35/100\n",
      "50/50 [==============================] - 0s 2ms/step - loss: 0.0387 - accuracy: 0.9861 - val_loss: 0.0963 - val_accuracy: 0.9640\n",
      "Epoch 36/100\n",
      "50/50 [==============================] - 0s 2ms/step - loss: 0.0410 - accuracy: 0.9829 - val_loss: 0.0855 - val_accuracy: 0.9659\n"
     ]
    },
    {
     "data": {
      "text/plain": [
       "<keras.callbacks.History at 0x7c2eda0f3b20>"
      ]
     },
     "execution_count": 15,
     "metadata": {},
     "output_type": "execute_result"
    }
   ],
   "source": [
    "from keras.models import Sequential\n",
    "from keras.layers import Dense, Dropout\n",
    "from keras.callbacks import ModelCheckpoint, EarlyStopping\n",
    "\n",
    "# menentukan nama dan path file untuk penyimpanan model\n",
    "filepath = \"model_bin_check.keras\"\n",
    "\n",
    "# mengatur kriteria checkpoint\n",
    "checkpoint = ModelCheckpoint(\n",
    "    filepath=filepath,\n",
    "    monitor=\"val_accuracy\",\n",
    "    save_best_only=True,\n",
    "    mode=\"max\",\n",
    "    verbose=0,\n",
    ")\n",
    "\n",
    "# mengatur kondisi untuk early stopping\n",
    "early_stopping = EarlyStopping(\n",
    "    monitor=\"val_accuracy\",\n",
    "    patience=10,\n",
    "    verbose=0,\n",
    ")\n",
    "\n",
    "# Membangun model neural network\n",
    "model_bin = Sequential()\n",
    "model_bin.add(Dense(units=64, input_dim=X_train.shape[1], activation=\"relu\"))\n",
    "model_bin.add(Dropout(0.1))\n",
    "model_bin.add(Dense(units=32, activation=\"relu\"))\n",
    "model_bin.add(Dropout(0.1))\n",
    "model_bin.add(Dense(units=1, activation=\"sigmoid\"))       # units=1, activation=\"sigmoid\"      \n",
    "\n",
    "# Mengompilasi model\n",
    "model_bin.compile(\n",
    "    optimizer=\"adam\",\n",
    "    loss=\"binary_crossentropy\",    # loss: binary_crossentropy\n",
    "    metrics=[\"accuracy\"],\n",
    ")\n",
    "\n",
    "# Melatih model\n",
    "model_bin.fit(\n",
    "    X_train,\n",
    "    y_train,\n",
    "    epochs=100,\n",
    "    # validation_split=0.2,\n",
    "    validation_data = [X_test, y_test],\n",
    "    callbacks=[checkpoint, early_stopping],  # mengatur checkpoint dan early stopping\n",
    ")"
   ]
  },
  {
   "cell_type": "markdown",
   "id": "277d17cb",
   "metadata": {
    "papermill": {
     "duration": 0.033977,
     "end_time": "2023-09-30T17:51:19.966475",
     "exception": false,
     "start_time": "2023-09-30T17:51:19.932498",
     "status": "completed"
    },
    "tags": []
   },
   "source": [
    "## 2.c Prediksi Data Uji"
   ]
  },
  {
   "cell_type": "code",
   "execution_count": 16,
   "id": "a1f6b5a6",
   "metadata": {
    "execution": {
     "iopub.execute_input": "2023-09-30T17:51:20.034165Z",
     "iopub.status.busy": "2023-09-30T17:51:20.033815Z",
     "iopub.status.idle": "2023-09-30T17:51:20.113376Z",
     "shell.execute_reply": "2023-09-30T17:51:20.112064Z"
    },
    "papermill": {
     "duration": 0.115639,
     "end_time": "2023-09-30T17:51:20.115008",
     "exception": false,
     "start_time": "2023-09-30T17:51:19.999369",
     "status": "completed"
    },
    "tags": []
   },
   "outputs": [
    {
     "name": "stdout",
     "output_type": "stream",
     "text": [
      "Model: \"sequential_3\"\n",
      "_________________________________________________________________\n",
      " Layer (type)                Output Shape              Param #   \n",
      "=================================================================\n",
      " dense_8 (Dense)             (None, 64)                1536      \n",
      "                                                                 \n",
      " dropout_4 (Dropout)         (None, 64)                0         \n",
      "                                                                 \n",
      " dense_9 (Dense)             (None, 32)                2080      \n",
      "                                                                 \n",
      " dropout_5 (Dropout)         (None, 32)                0         \n",
      "                                                                 \n",
      " dense_10 (Dense)            (None, 1)                 33        \n",
      "                                                                 \n",
      "=================================================================\n",
      "Total params: 3,649\n",
      "Trainable params: 3,649\n",
      "Non-trainable params: 0\n",
      "_________________________________________________________________\n"
     ]
    }
   ],
   "source": [
    "my_model_bin_check = load_model(\"model_bin_check.keras\")\n",
    "\n",
    "my_model_bin_check.summary()"
   ]
  },
  {
   "cell_type": "code",
   "execution_count": 17,
   "id": "15d06f72",
   "metadata": {
    "execution": {
     "iopub.execute_input": "2023-09-30T17:51:20.183137Z",
     "iopub.status.busy": "2023-09-30T17:51:20.182584Z",
     "iopub.status.idle": "2023-09-30T17:51:20.582005Z",
     "shell.execute_reply": "2023-09-30T17:51:20.581117Z"
    },
    "papermill": {
     "duration": 0.435263,
     "end_time": "2023-09-30T17:51:20.584103",
     "exception": false,
     "start_time": "2023-09-30T17:51:20.148840",
     "status": "completed"
    },
    "tags": []
   },
   "outputs": [
    {
     "name": "stdout",
     "output_type": "stream",
     "text": [
      "17/17 [==============================] - 0s 1ms/step - loss: 0.0905 - accuracy: 0.9697\n",
      "17/17 [==============================] - 0s 973us/step\n",
      "\n",
      "              precision    recall  f1-score   support\n",
      "\n",
      "       False       0.97      0.92      0.95       150\n",
      "        True       0.97      0.99      0.98       378\n",
      "\n",
      "    accuracy                           0.97       528\n",
      "   macro avg       0.97      0.95      0.96       528\n",
      "weighted avg       0.97      0.97      0.97       528\n",
      "\n",
      "\n"
     ]
    },
    {
     "data": {
      "image/png": "[encoded data removed]",
      "text/plain": [
       "<Figure size 640x480 with 2 Axes>"
      ]
     },
     "metadata": {},
     "output_type": "display_data"
    }
   ],
   "source": [
    "# Evaluasi model pada data test\n",
    "loss, accuracy = my_model_bin_check.evaluate(X_test, y_test)\n",
    "\n",
    "# melihat prediksi pada data test\n",
    "y_pred = my_model_bin_check.predict(X_test)\n",
    "\n",
    "# karena hasilnya berupa nilai 0-1, dengan cut-off 0.5 kita bisa menggunakan fungsi round saja\n",
    "y_pred_class = np.round(y_pred)\n",
    "\n",
    "print()\n",
    "\n",
    "# menampilkan metrik klasifikasi\n",
    "print(classification_report(y_test, y_pred_class))\n",
    "\n",
    "print()\n",
    "\n",
    "# memvisualisasikan confusion matrix\n",
    "disp = ConfusionMatrixDisplay(\n",
    "    confusion_matrix(y_pred_class, y_test)\n",
    ")\n",
    "\n",
    "disp.plot()\n",
    "plt.show()"
   ]
  },
  {
   "cell_type": "markdown",
   "id": "408cdf3d",
   "metadata": {
    "papermill": {
     "duration": 0.032679,
     "end_time": "2023-09-30T17:51:20.653805",
     "exception": false,
     "start_time": "2023-09-30T17:51:20.621126",
     "status": "completed"
    },
    "tags": []
   },
   "source": [
    "<br>\n",
    "<hr>\n",
    "\n",
    "notebook ini hanya berisi sintaks dan sedikit komentar saja. Untuk penjelasan lebih lengkap dapat dilihat pada tautan ini:\n",
    "  \n",
    "**[Model Neural Network Python menggunakan keras (Klasifikasi)](https://sainsdata.id/machine-learning/2751/neural-network-untuk-klasifikasi-multikelas-dengan-keras)**\n",
    "\n",
    "<hr>"
   ]
  }
 ],
 "metadata": {
  "kernelspec": {
   "display_name": "Python 3",
   "language": "python",
   "name": "python3"
  },
  "language_info": {
   "codemirror_mode": {
    "name": "ipython",
    "version": 3
   },
   "file_extension": ".py",
   "mimetype": "text/x-python",
   "name": "python",
   "nbconvert_exporter": "python",
   "pygments_lexer": "ipython3",
   "version": "3.10.12"
  },
  "papermill": {
   "default_parameters": {},
   "duration": 45.44094,
   "end_time": "2023-09-30T17:51:22.108907",
   "environment_variables": {},
   "exception": null,
   "input_path": "__notebook__.ipynb",
   "output_path": "__notebook__.ipynb",
   "parameters": {},
   "start_time": "2023-09-30T17:50:36.667967",
   "version": "2.4.0"
  }
 },
 "nbformat": 4,
 "nbformat_minor": 5
}
